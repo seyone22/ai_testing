{
  "nbformat": 4,
  "nbformat_minor": 0,
  "metadata": {
    "colab": {
      "provenance": [],
      "include_colab_link": true
    },
    "kernelspec": {
      "name": "python3",
      "display_name": "Python 3"
    },
    "language_info": {
      "name": "python"
    },
    "widgets": {
      "application/vnd.jupyter.widget-state+json": {
        "2bcf19728b6a480f96c2deeb74fb441e": {
          "model_module": "@jupyter-widgets/controls",
          "model_name": "HBoxModel",
          "model_module_version": "1.5.0",
          "state": {
            "_dom_classes": [],
            "_model_module": "@jupyter-widgets/controls",
            "_model_module_version": "1.5.0",
            "_model_name": "HBoxModel",
            "_view_count": null,
            "_view_module": "@jupyter-widgets/controls",
            "_view_module_version": "1.5.0",
            "_view_name": "HBoxView",
            "box_style": "",
            "children": [
              "IPY_MODEL_ef662f4ac97540f48d2ab41ff5f564b9",
              "IPY_MODEL_2a1e403d9c124535a22bbf0ca96272b6",
              "IPY_MODEL_04d539e9791240d18fb11a25d10eb003"
            ],
            "layout": "IPY_MODEL_1498dec4d7c14aa2a57f3982c66e5eff"
          }
        },
        "ef662f4ac97540f48d2ab41ff5f564b9": {
          "model_module": "@jupyter-widgets/controls",
          "model_name": "HTMLModel",
          "model_module_version": "1.5.0",
          "state": {
            "_dom_classes": [],
            "_model_module": "@jupyter-widgets/controls",
            "_model_module_version": "1.5.0",
            "_model_name": "HTMLModel",
            "_view_count": null,
            "_view_module": "@jupyter-widgets/controls",
            "_view_module_version": "1.5.0",
            "_view_name": "HTMLView",
            "description": "",
            "description_tooltip": null,
            "layout": "IPY_MODEL_7d391c3b2efe46ea9ca3d8605ca99a61",
            "placeholder": "​",
            "style": "IPY_MODEL_767f393b08c3482ca281cb96b68cfa2b",
            "value": "Dl Completed...: 100%"
          }
        },
        "2a1e403d9c124535a22bbf0ca96272b6": {
          "model_module": "@jupyter-widgets/controls",
          "model_name": "FloatProgressModel",
          "model_module_version": "1.5.0",
          "state": {
            "_dom_classes": [],
            "_model_module": "@jupyter-widgets/controls",
            "_model_module_version": "1.5.0",
            "_model_name": "FloatProgressModel",
            "_view_count": null,
            "_view_module": "@jupyter-widgets/controls",
            "_view_module_version": "1.5.0",
            "_view_name": "ProgressView",
            "bar_style": "success",
            "description": "",
            "description_tooltip": null,
            "layout": "IPY_MODEL_c1639c786b924f0ea5d8f7d51214455c",
            "max": 1,
            "min": 0,
            "orientation": "horizontal",
            "style": "IPY_MODEL_6e88f5e0821e4ddab8628087d21cf2bd",
            "value": 1
          }
        },
        "04d539e9791240d18fb11a25d10eb003": {
          "model_module": "@jupyter-widgets/controls",
          "model_name": "HTMLModel",
          "model_module_version": "1.5.0",
          "state": {
            "_dom_classes": [],
            "_model_module": "@jupyter-widgets/controls",
            "_model_module_version": "1.5.0",
            "_model_name": "HTMLModel",
            "_view_count": null,
            "_view_module": "@jupyter-widgets/controls",
            "_view_module_version": "1.5.0",
            "_view_name": "HTMLView",
            "description": "",
            "description_tooltip": null,
            "layout": "IPY_MODEL_9c5721dca48d4ea1ae591a2c56f9f5ab",
            "placeholder": "​",
            "style": "IPY_MODEL_1eb45047236f4c22be0e56f14a6c91b3",
            "value": " 1/1 [00:01&lt;00:00,  1.04s/ url]"
          }
        },
        "1498dec4d7c14aa2a57f3982c66e5eff": {
          "model_module": "@jupyter-widgets/base",
          "model_name": "LayoutModel",
          "model_module_version": "1.2.0",
          "state": {
            "_model_module": "@jupyter-widgets/base",
            "_model_module_version": "1.2.0",
            "_model_name": "LayoutModel",
            "_view_count": null,
            "_view_module": "@jupyter-widgets/base",
            "_view_module_version": "1.2.0",
            "_view_name": "LayoutView",
            "align_content": null,
            "align_items": null,
            "align_self": null,
            "border": null,
            "bottom": null,
            "display": null,
            "flex": null,
            "flex_flow": null,
            "grid_area": null,
            "grid_auto_columns": null,
            "grid_auto_flow": null,
            "grid_auto_rows": null,
            "grid_column": null,
            "grid_gap": null,
            "grid_row": null,
            "grid_template_areas": null,
            "grid_template_columns": null,
            "grid_template_rows": null,
            "height": null,
            "justify_content": null,
            "justify_items": null,
            "left": null,
            "margin": null,
            "max_height": null,
            "max_width": null,
            "min_height": null,
            "min_width": null,
            "object_fit": null,
            "object_position": null,
            "order": null,
            "overflow": null,
            "overflow_x": null,
            "overflow_y": null,
            "padding": null,
            "right": null,
            "top": null,
            "visibility": null,
            "width": null
          }
        },
        "7d391c3b2efe46ea9ca3d8605ca99a61": {
          "model_module": "@jupyter-widgets/base",
          "model_name": "LayoutModel",
          "model_module_version": "1.2.0",
          "state": {
            "_model_module": "@jupyter-widgets/base",
            "_model_module_version": "1.2.0",
            "_model_name": "LayoutModel",
            "_view_count": null,
            "_view_module": "@jupyter-widgets/base",
            "_view_module_version": "1.2.0",
            "_view_name": "LayoutView",
            "align_content": null,
            "align_items": null,
            "align_self": null,
            "border": null,
            "bottom": null,
            "display": null,
            "flex": null,
            "flex_flow": null,
            "grid_area": null,
            "grid_auto_columns": null,
            "grid_auto_flow": null,
            "grid_auto_rows": null,
            "grid_column": null,
            "grid_gap": null,
            "grid_row": null,
            "grid_template_areas": null,
            "grid_template_columns": null,
            "grid_template_rows": null,
            "height": null,
            "justify_content": null,
            "justify_items": null,
            "left": null,
            "margin": null,
            "max_height": null,
            "max_width": null,
            "min_height": null,
            "min_width": null,
            "object_fit": null,
            "object_position": null,
            "order": null,
            "overflow": null,
            "overflow_x": null,
            "overflow_y": null,
            "padding": null,
            "right": null,
            "top": null,
            "visibility": null,
            "width": null
          }
        },
        "767f393b08c3482ca281cb96b68cfa2b": {
          "model_module": "@jupyter-widgets/controls",
          "model_name": "DescriptionStyleModel",
          "model_module_version": "1.5.0",
          "state": {
            "_model_module": "@jupyter-widgets/controls",
            "_model_module_version": "1.5.0",
            "_model_name": "DescriptionStyleModel",
            "_view_count": null,
            "_view_module": "@jupyter-widgets/base",
            "_view_module_version": "1.2.0",
            "_view_name": "StyleView",
            "description_width": ""
          }
        },
        "c1639c786b924f0ea5d8f7d51214455c": {
          "model_module": "@jupyter-widgets/base",
          "model_name": "LayoutModel",
          "model_module_version": "1.2.0",
          "state": {
            "_model_module": "@jupyter-widgets/base",
            "_model_module_version": "1.2.0",
            "_model_name": "LayoutModel",
            "_view_count": null,
            "_view_module": "@jupyter-widgets/base",
            "_view_module_version": "1.2.0",
            "_view_name": "LayoutView",
            "align_content": null,
            "align_items": null,
            "align_self": null,
            "border": null,
            "bottom": null,
            "display": null,
            "flex": null,
            "flex_flow": null,
            "grid_area": null,
            "grid_auto_columns": null,
            "grid_auto_flow": null,
            "grid_auto_rows": null,
            "grid_column": null,
            "grid_gap": null,
            "grid_row": null,
            "grid_template_areas": null,
            "grid_template_columns": null,
            "grid_template_rows": null,
            "height": null,
            "justify_content": null,
            "justify_items": null,
            "left": null,
            "margin": null,
            "max_height": null,
            "max_width": null,
            "min_height": null,
            "min_width": null,
            "object_fit": null,
            "object_position": null,
            "order": null,
            "overflow": null,
            "overflow_x": null,
            "overflow_y": null,
            "padding": null,
            "right": null,
            "top": null,
            "visibility": null,
            "width": "20px"
          }
        },
        "6e88f5e0821e4ddab8628087d21cf2bd": {
          "model_module": "@jupyter-widgets/controls",
          "model_name": "ProgressStyleModel",
          "model_module_version": "1.5.0",
          "state": {
            "_model_module": "@jupyter-widgets/controls",
            "_model_module_version": "1.5.0",
            "_model_name": "ProgressStyleModel",
            "_view_count": null,
            "_view_module": "@jupyter-widgets/base",
            "_view_module_version": "1.2.0",
            "_view_name": "StyleView",
            "bar_color": null,
            "description_width": ""
          }
        },
        "9c5721dca48d4ea1ae591a2c56f9f5ab": {
          "model_module": "@jupyter-widgets/base",
          "model_name": "LayoutModel",
          "model_module_version": "1.2.0",
          "state": {
            "_model_module": "@jupyter-widgets/base",
            "_model_module_version": "1.2.0",
            "_model_name": "LayoutModel",
            "_view_count": null,
            "_view_module": "@jupyter-widgets/base",
            "_view_module_version": "1.2.0",
            "_view_name": "LayoutView",
            "align_content": null,
            "align_items": null,
            "align_self": null,
            "border": null,
            "bottom": null,
            "display": null,
            "flex": null,
            "flex_flow": null,
            "grid_area": null,
            "grid_auto_columns": null,
            "grid_auto_flow": null,
            "grid_auto_rows": null,
            "grid_column": null,
            "grid_gap": null,
            "grid_row": null,
            "grid_template_areas": null,
            "grid_template_columns": null,
            "grid_template_rows": null,
            "height": null,
            "justify_content": null,
            "justify_items": null,
            "left": null,
            "margin": null,
            "max_height": null,
            "max_width": null,
            "min_height": null,
            "min_width": null,
            "object_fit": null,
            "object_position": null,
            "order": null,
            "overflow": null,
            "overflow_x": null,
            "overflow_y": null,
            "padding": null,
            "right": null,
            "top": null,
            "visibility": null,
            "width": null
          }
        },
        "1eb45047236f4c22be0e56f14a6c91b3": {
          "model_module": "@jupyter-widgets/controls",
          "model_name": "DescriptionStyleModel",
          "model_module_version": "1.5.0",
          "state": {
            "_model_module": "@jupyter-widgets/controls",
            "_model_module_version": "1.5.0",
            "_model_name": "DescriptionStyleModel",
            "_view_count": null,
            "_view_module": "@jupyter-widgets/base",
            "_view_module_version": "1.2.0",
            "_view_name": "StyleView",
            "description_width": ""
          }
        },
        "4f03dab14f9a4588b63f07cb3a183548": {
          "model_module": "@jupyter-widgets/controls",
          "model_name": "HBoxModel",
          "model_module_version": "1.5.0",
          "state": {
            "_dom_classes": [],
            "_model_module": "@jupyter-widgets/controls",
            "_model_module_version": "1.5.0",
            "_model_name": "HBoxModel",
            "_view_count": null,
            "_view_module": "@jupyter-widgets/controls",
            "_view_module_version": "1.5.0",
            "_view_name": "HBoxView",
            "box_style": "",
            "children": [
              "IPY_MODEL_1c746bc4e33941798ca0ceec3733b66c",
              "IPY_MODEL_c8a32a64359148538403dea3160b8a8e",
              "IPY_MODEL_bb794019fb8d4531ac5a3efa56ac4dda"
            ],
            "layout": "IPY_MODEL_d8638a7b52454acbbb8d7253f272dc1b"
          }
        },
        "1c746bc4e33941798ca0ceec3733b66c": {
          "model_module": "@jupyter-widgets/controls",
          "model_name": "HTMLModel",
          "model_module_version": "1.5.0",
          "state": {
            "_dom_classes": [],
            "_model_module": "@jupyter-widgets/controls",
            "_model_module_version": "1.5.0",
            "_model_name": "HTMLModel",
            "_view_count": null,
            "_view_module": "@jupyter-widgets/controls",
            "_view_module_version": "1.5.0",
            "_view_name": "HTMLView",
            "description": "",
            "description_tooltip": null,
            "layout": "IPY_MODEL_f27745673bac4215809baee701be8ceb",
            "placeholder": "​",
            "style": "IPY_MODEL_300f1c43e7014058b66840af4dfc0f6c",
            "value": "Dl Size...: 100%"
          }
        },
        "c8a32a64359148538403dea3160b8a8e": {
          "model_module": "@jupyter-widgets/controls",
          "model_name": "FloatProgressModel",
          "model_module_version": "1.5.0",
          "state": {
            "_dom_classes": [],
            "_model_module": "@jupyter-widgets/controls",
            "_model_module_version": "1.5.0",
            "_model_name": "FloatProgressModel",
            "_view_count": null,
            "_view_module": "@jupyter-widgets/controls",
            "_view_module_version": "1.5.0",
            "_view_name": "ProgressView",
            "bar_style": "success",
            "description": "",
            "description_tooltip": null,
            "layout": "IPY_MODEL_b69b432525cc4bb08bfbfda9c76edded",
            "max": 1,
            "min": 0,
            "orientation": "horizontal",
            "style": "IPY_MODEL_6c4e439d630246b384236f8787718efa",
            "value": 1
          }
        },
        "bb794019fb8d4531ac5a3efa56ac4dda": {
          "model_module": "@jupyter-widgets/controls",
          "model_name": "HTMLModel",
          "model_module_version": "1.5.0",
          "state": {
            "_dom_classes": [],
            "_model_module": "@jupyter-widgets/controls",
            "_model_module_version": "1.5.0",
            "_model_name": "HTMLModel",
            "_view_count": null,
            "_view_module": "@jupyter-widgets/controls",
            "_view_module_version": "1.5.0",
            "_view_name": "HTMLView",
            "description": "",
            "description_tooltip": null,
            "layout": "IPY_MODEL_70afab10e20a4b6893a99afe0c5edf82",
            "placeholder": "​",
            "style": "IPY_MODEL_b2abf3a4d99c4bb9bd3a356c1cdd19d3",
            "value": " 4/4 [00:01&lt;00:00,  3.99 MiB/s]"
          }
        },
        "d8638a7b52454acbbb8d7253f272dc1b": {
          "model_module": "@jupyter-widgets/base",
          "model_name": "LayoutModel",
          "model_module_version": "1.2.0",
          "state": {
            "_model_module": "@jupyter-widgets/base",
            "_model_module_version": "1.2.0",
            "_model_name": "LayoutModel",
            "_view_count": null,
            "_view_module": "@jupyter-widgets/base",
            "_view_module_version": "1.2.0",
            "_view_name": "LayoutView",
            "align_content": null,
            "align_items": null,
            "align_self": null,
            "border": null,
            "bottom": null,
            "display": null,
            "flex": null,
            "flex_flow": null,
            "grid_area": null,
            "grid_auto_columns": null,
            "grid_auto_flow": null,
            "grid_auto_rows": null,
            "grid_column": null,
            "grid_gap": null,
            "grid_row": null,
            "grid_template_areas": null,
            "grid_template_columns": null,
            "grid_template_rows": null,
            "height": null,
            "justify_content": null,
            "justify_items": null,
            "left": null,
            "margin": null,
            "max_height": null,
            "max_width": null,
            "min_height": null,
            "min_width": null,
            "object_fit": null,
            "object_position": null,
            "order": null,
            "overflow": null,
            "overflow_x": null,
            "overflow_y": null,
            "padding": null,
            "right": null,
            "top": null,
            "visibility": null,
            "width": null
          }
        },
        "f27745673bac4215809baee701be8ceb": {
          "model_module": "@jupyter-widgets/base",
          "model_name": "LayoutModel",
          "model_module_version": "1.2.0",
          "state": {
            "_model_module": "@jupyter-widgets/base",
            "_model_module_version": "1.2.0",
            "_model_name": "LayoutModel",
            "_view_count": null,
            "_view_module": "@jupyter-widgets/base",
            "_view_module_version": "1.2.0",
            "_view_name": "LayoutView",
            "align_content": null,
            "align_items": null,
            "align_self": null,
            "border": null,
            "bottom": null,
            "display": null,
            "flex": null,
            "flex_flow": null,
            "grid_area": null,
            "grid_auto_columns": null,
            "grid_auto_flow": null,
            "grid_auto_rows": null,
            "grid_column": null,
            "grid_gap": null,
            "grid_row": null,
            "grid_template_areas": null,
            "grid_template_columns": null,
            "grid_template_rows": null,
            "height": null,
            "justify_content": null,
            "justify_items": null,
            "left": null,
            "margin": null,
            "max_height": null,
            "max_width": null,
            "min_height": null,
            "min_width": null,
            "object_fit": null,
            "object_position": null,
            "order": null,
            "overflow": null,
            "overflow_x": null,
            "overflow_y": null,
            "padding": null,
            "right": null,
            "top": null,
            "visibility": null,
            "width": null
          }
        },
        "300f1c43e7014058b66840af4dfc0f6c": {
          "model_module": "@jupyter-widgets/controls",
          "model_name": "DescriptionStyleModel",
          "model_module_version": "1.5.0",
          "state": {
            "_model_module": "@jupyter-widgets/controls",
            "_model_module_version": "1.5.0",
            "_model_name": "DescriptionStyleModel",
            "_view_count": null,
            "_view_module": "@jupyter-widgets/base",
            "_view_module_version": "1.2.0",
            "_view_name": "StyleView",
            "description_width": ""
          }
        },
        "b69b432525cc4bb08bfbfda9c76edded": {
          "model_module": "@jupyter-widgets/base",
          "model_name": "LayoutModel",
          "model_module_version": "1.2.0",
          "state": {
            "_model_module": "@jupyter-widgets/base",
            "_model_module_version": "1.2.0",
            "_model_name": "LayoutModel",
            "_view_count": null,
            "_view_module": "@jupyter-widgets/base",
            "_view_module_version": "1.2.0",
            "_view_name": "LayoutView",
            "align_content": null,
            "align_items": null,
            "align_self": null,
            "border": null,
            "bottom": null,
            "display": null,
            "flex": null,
            "flex_flow": null,
            "grid_area": null,
            "grid_auto_columns": null,
            "grid_auto_flow": null,
            "grid_auto_rows": null,
            "grid_column": null,
            "grid_gap": null,
            "grid_row": null,
            "grid_template_areas": null,
            "grid_template_columns": null,
            "grid_template_rows": null,
            "height": null,
            "justify_content": null,
            "justify_items": null,
            "left": null,
            "margin": null,
            "max_height": null,
            "max_width": null,
            "min_height": null,
            "min_width": null,
            "object_fit": null,
            "object_position": null,
            "order": null,
            "overflow": null,
            "overflow_x": null,
            "overflow_y": null,
            "padding": null,
            "right": null,
            "top": null,
            "visibility": null,
            "width": "20px"
          }
        },
        "6c4e439d630246b384236f8787718efa": {
          "model_module": "@jupyter-widgets/controls",
          "model_name": "ProgressStyleModel",
          "model_module_version": "1.5.0",
          "state": {
            "_model_module": "@jupyter-widgets/controls",
            "_model_module_version": "1.5.0",
            "_model_name": "ProgressStyleModel",
            "_view_count": null,
            "_view_module": "@jupyter-widgets/base",
            "_view_module_version": "1.2.0",
            "_view_name": "StyleView",
            "bar_color": null,
            "description_width": ""
          }
        },
        "70afab10e20a4b6893a99afe0c5edf82": {
          "model_module": "@jupyter-widgets/base",
          "model_name": "LayoutModel",
          "model_module_version": "1.2.0",
          "state": {
            "_model_module": "@jupyter-widgets/base",
            "_model_module_version": "1.2.0",
            "_model_name": "LayoutModel",
            "_view_count": null,
            "_view_module": "@jupyter-widgets/base",
            "_view_module_version": "1.2.0",
            "_view_name": "LayoutView",
            "align_content": null,
            "align_items": null,
            "align_self": null,
            "border": null,
            "bottom": null,
            "display": null,
            "flex": null,
            "flex_flow": null,
            "grid_area": null,
            "grid_auto_columns": null,
            "grid_auto_flow": null,
            "grid_auto_rows": null,
            "grid_column": null,
            "grid_gap": null,
            "grid_row": null,
            "grid_template_areas": null,
            "grid_template_columns": null,
            "grid_template_rows": null,
            "height": null,
            "justify_content": null,
            "justify_items": null,
            "left": null,
            "margin": null,
            "max_height": null,
            "max_width": null,
            "min_height": null,
            "min_width": null,
            "object_fit": null,
            "object_position": null,
            "order": null,
            "overflow": null,
            "overflow_x": null,
            "overflow_y": null,
            "padding": null,
            "right": null,
            "top": null,
            "visibility": null,
            "width": null
          }
        },
        "b2abf3a4d99c4bb9bd3a356c1cdd19d3": {
          "model_module": "@jupyter-widgets/controls",
          "model_name": "DescriptionStyleModel",
          "model_module_version": "1.5.0",
          "state": {
            "_model_module": "@jupyter-widgets/controls",
            "_model_module_version": "1.5.0",
            "_model_name": "DescriptionStyleModel",
            "_view_count": null,
            "_view_module": "@jupyter-widgets/base",
            "_view_module_version": "1.2.0",
            "_view_name": "StyleView",
            "description_width": ""
          }
        },
        "7f8b589ed70d4e0585cc40a7693f1680": {
          "model_module": "@jupyter-widgets/controls",
          "model_name": "HBoxModel",
          "model_module_version": "1.5.0",
          "state": {
            "_dom_classes": [],
            "_model_module": "@jupyter-widgets/controls",
            "_model_module_version": "1.5.0",
            "_model_name": "HBoxModel",
            "_view_count": null,
            "_view_module": "@jupyter-widgets/controls",
            "_view_module_version": "1.5.0",
            "_view_name": "HBoxView",
            "box_style": "",
            "children": [
              "IPY_MODEL_4303db8191a84e3b8fd32d07a3504d49",
              "IPY_MODEL_ca3ee96ae5ac40fdb590cd0e8d7fd9cc",
              "IPY_MODEL_0cfe42ae57444bc5b644ca06331c743f"
            ],
            "layout": "IPY_MODEL_335a13eddc2f4893abeddd1a3ad57411"
          }
        },
        "4303db8191a84e3b8fd32d07a3504d49": {
          "model_module": "@jupyter-widgets/controls",
          "model_name": "HTMLModel",
          "model_module_version": "1.5.0",
          "state": {
            "_dom_classes": [],
            "_model_module": "@jupyter-widgets/controls",
            "_model_module_version": "1.5.0",
            "_model_name": "HTMLModel",
            "_view_count": null,
            "_view_module": "@jupyter-widgets/controls",
            "_view_module_version": "1.5.0",
            "_view_name": "HTMLView",
            "description": "",
            "description_tooltip": null,
            "layout": "IPY_MODEL_14e0e9231518460d844750133dce93a5",
            "placeholder": "​",
            "style": "IPY_MODEL_46c1886103f2459886bf658f33b2f985",
            "value": "Extraction completed...: 100%"
          }
        },
        "ca3ee96ae5ac40fdb590cd0e8d7fd9cc": {
          "model_module": "@jupyter-widgets/controls",
          "model_name": "FloatProgressModel",
          "model_module_version": "1.5.0",
          "state": {
            "_dom_classes": [],
            "_model_module": "@jupyter-widgets/controls",
            "_model_module_version": "1.5.0",
            "_model_name": "FloatProgressModel",
            "_view_count": null,
            "_view_module": "@jupyter-widgets/controls",
            "_view_module_version": "1.5.0",
            "_view_name": "ProgressView",
            "bar_style": "success",
            "description": "",
            "description_tooltip": null,
            "layout": "IPY_MODEL_d0e471ab966347a2a761acffb60c9cb1",
            "max": 1,
            "min": 0,
            "orientation": "horizontal",
            "style": "IPY_MODEL_8c7f155aeef747f2921f11ce2e69029f",
            "value": 1
          }
        },
        "0cfe42ae57444bc5b644ca06331c743f": {
          "model_module": "@jupyter-widgets/controls",
          "model_name": "HTMLModel",
          "model_module_version": "1.5.0",
          "state": {
            "_dom_classes": [],
            "_model_module": "@jupyter-widgets/controls",
            "_model_module_version": "1.5.0",
            "_model_name": "HTMLModel",
            "_view_count": null,
            "_view_module": "@jupyter-widgets/controls",
            "_view_module_version": "1.5.0",
            "_view_name": "HTMLView",
            "description": "",
            "description_tooltip": null,
            "layout": "IPY_MODEL_8cafa7622add4a908380a9f071eb5aaf",
            "placeholder": "​",
            "style": "IPY_MODEL_8be4aa63e8df4ad5b7591f7385304a75",
            "value": " 23/23 [00:00&lt;00:00, 23.63 file/s]"
          }
        },
        "335a13eddc2f4893abeddd1a3ad57411": {
          "model_module": "@jupyter-widgets/base",
          "model_name": "LayoutModel",
          "model_module_version": "1.2.0",
          "state": {
            "_model_module": "@jupyter-widgets/base",
            "_model_module_version": "1.2.0",
            "_model_name": "LayoutModel",
            "_view_count": null,
            "_view_module": "@jupyter-widgets/base",
            "_view_module_version": "1.2.0",
            "_view_name": "LayoutView",
            "align_content": null,
            "align_items": null,
            "align_self": null,
            "border": null,
            "bottom": null,
            "display": null,
            "flex": null,
            "flex_flow": null,
            "grid_area": null,
            "grid_auto_columns": null,
            "grid_auto_flow": null,
            "grid_auto_rows": null,
            "grid_column": null,
            "grid_gap": null,
            "grid_row": null,
            "grid_template_areas": null,
            "grid_template_columns": null,
            "grid_template_rows": null,
            "height": null,
            "justify_content": null,
            "justify_items": null,
            "left": null,
            "margin": null,
            "max_height": null,
            "max_width": null,
            "min_height": null,
            "min_width": null,
            "object_fit": null,
            "object_position": null,
            "order": null,
            "overflow": null,
            "overflow_x": null,
            "overflow_y": null,
            "padding": null,
            "right": null,
            "top": null,
            "visibility": null,
            "width": null
          }
        },
        "14e0e9231518460d844750133dce93a5": {
          "model_module": "@jupyter-widgets/base",
          "model_name": "LayoutModel",
          "model_module_version": "1.2.0",
          "state": {
            "_model_module": "@jupyter-widgets/base",
            "_model_module_version": "1.2.0",
            "_model_name": "LayoutModel",
            "_view_count": null,
            "_view_module": "@jupyter-widgets/base",
            "_view_module_version": "1.2.0",
            "_view_name": "LayoutView",
            "align_content": null,
            "align_items": null,
            "align_self": null,
            "border": null,
            "bottom": null,
            "display": null,
            "flex": null,
            "flex_flow": null,
            "grid_area": null,
            "grid_auto_columns": null,
            "grid_auto_flow": null,
            "grid_auto_rows": null,
            "grid_column": null,
            "grid_gap": null,
            "grid_row": null,
            "grid_template_areas": null,
            "grid_template_columns": null,
            "grid_template_rows": null,
            "height": null,
            "justify_content": null,
            "justify_items": null,
            "left": null,
            "margin": null,
            "max_height": null,
            "max_width": null,
            "min_height": null,
            "min_width": null,
            "object_fit": null,
            "object_position": null,
            "order": null,
            "overflow": null,
            "overflow_x": null,
            "overflow_y": null,
            "padding": null,
            "right": null,
            "top": null,
            "visibility": null,
            "width": null
          }
        },
        "46c1886103f2459886bf658f33b2f985": {
          "model_module": "@jupyter-widgets/controls",
          "model_name": "DescriptionStyleModel",
          "model_module_version": "1.5.0",
          "state": {
            "_model_module": "@jupyter-widgets/controls",
            "_model_module_version": "1.5.0",
            "_model_name": "DescriptionStyleModel",
            "_view_count": null,
            "_view_module": "@jupyter-widgets/base",
            "_view_module_version": "1.2.0",
            "_view_name": "StyleView",
            "description_width": ""
          }
        },
        "d0e471ab966347a2a761acffb60c9cb1": {
          "model_module": "@jupyter-widgets/base",
          "model_name": "LayoutModel",
          "model_module_version": "1.2.0",
          "state": {
            "_model_module": "@jupyter-widgets/base",
            "_model_module_version": "1.2.0",
            "_model_name": "LayoutModel",
            "_view_count": null,
            "_view_module": "@jupyter-widgets/base",
            "_view_module_version": "1.2.0",
            "_view_name": "LayoutView",
            "align_content": null,
            "align_items": null,
            "align_self": null,
            "border": null,
            "bottom": null,
            "display": null,
            "flex": null,
            "flex_flow": null,
            "grid_area": null,
            "grid_auto_columns": null,
            "grid_auto_flow": null,
            "grid_auto_rows": null,
            "grid_column": null,
            "grid_gap": null,
            "grid_row": null,
            "grid_template_areas": null,
            "grid_template_columns": null,
            "grid_template_rows": null,
            "height": null,
            "justify_content": null,
            "justify_items": null,
            "left": null,
            "margin": null,
            "max_height": null,
            "max_width": null,
            "min_height": null,
            "min_width": null,
            "object_fit": null,
            "object_position": null,
            "order": null,
            "overflow": null,
            "overflow_x": null,
            "overflow_y": null,
            "padding": null,
            "right": null,
            "top": null,
            "visibility": null,
            "width": "20px"
          }
        },
        "8c7f155aeef747f2921f11ce2e69029f": {
          "model_module": "@jupyter-widgets/controls",
          "model_name": "ProgressStyleModel",
          "model_module_version": "1.5.0",
          "state": {
            "_model_module": "@jupyter-widgets/controls",
            "_model_module_version": "1.5.0",
            "_model_name": "ProgressStyleModel",
            "_view_count": null,
            "_view_module": "@jupyter-widgets/base",
            "_view_module_version": "1.2.0",
            "_view_name": "StyleView",
            "bar_color": null,
            "description_width": ""
          }
        },
        "8cafa7622add4a908380a9f071eb5aaf": {
          "model_module": "@jupyter-widgets/base",
          "model_name": "LayoutModel",
          "model_module_version": "1.2.0",
          "state": {
            "_model_module": "@jupyter-widgets/base",
            "_model_module_version": "1.2.0",
            "_model_name": "LayoutModel",
            "_view_count": null,
            "_view_module": "@jupyter-widgets/base",
            "_view_module_version": "1.2.0",
            "_view_name": "LayoutView",
            "align_content": null,
            "align_items": null,
            "align_self": null,
            "border": null,
            "bottom": null,
            "display": null,
            "flex": null,
            "flex_flow": null,
            "grid_area": null,
            "grid_auto_columns": null,
            "grid_auto_flow": null,
            "grid_auto_rows": null,
            "grid_column": null,
            "grid_gap": null,
            "grid_row": null,
            "grid_template_areas": null,
            "grid_template_columns": null,
            "grid_template_rows": null,
            "height": null,
            "justify_content": null,
            "justify_items": null,
            "left": null,
            "margin": null,
            "max_height": null,
            "max_width": null,
            "min_height": null,
            "min_width": null,
            "object_fit": null,
            "object_position": null,
            "order": null,
            "overflow": null,
            "overflow_x": null,
            "overflow_y": null,
            "padding": null,
            "right": null,
            "top": null,
            "visibility": null,
            "width": null
          }
        },
        "8be4aa63e8df4ad5b7591f7385304a75": {
          "model_module": "@jupyter-widgets/controls",
          "model_name": "DescriptionStyleModel",
          "model_module_version": "1.5.0",
          "state": {
            "_model_module": "@jupyter-widgets/controls",
            "_model_module_version": "1.5.0",
            "_model_name": "DescriptionStyleModel",
            "_view_count": null,
            "_view_module": "@jupyter-widgets/base",
            "_view_module_version": "1.2.0",
            "_view_name": "StyleView",
            "description_width": ""
          }
        },
        "b918a37a450044c4aabef991fd6bae82": {
          "model_module": "@jupyter-widgets/controls",
          "model_name": "HBoxModel",
          "model_module_version": "1.5.0",
          "state": {
            "_dom_classes": [],
            "_model_module": "@jupyter-widgets/controls",
            "_model_module_version": "1.5.0",
            "_model_name": "HBoxModel",
            "_view_count": null,
            "_view_module": "@jupyter-widgets/controls",
            "_view_module_version": "1.5.0",
            "_view_name": "HBoxView",
            "box_style": "",
            "children": [
              "IPY_MODEL_612b6b23dd954a35a035b5647c58f753",
              "IPY_MODEL_3e1ebb01d1ce4ae5afc69f4f6eda1c19",
              "IPY_MODEL_ed257143dacd4d6a9009384cca1a37a3"
            ],
            "layout": "IPY_MODEL_cb96802bc02b4971a51fbd10b5290119"
          }
        },
        "612b6b23dd954a35a035b5647c58f753": {
          "model_module": "@jupyter-widgets/controls",
          "model_name": "HTMLModel",
          "model_module_version": "1.5.0",
          "state": {
            "_dom_classes": [],
            "_model_module": "@jupyter-widgets/controls",
            "_model_module_version": "1.5.0",
            "_model_name": "HTMLModel",
            "_view_count": null,
            "_view_module": "@jupyter-widgets/controls",
            "_view_module_version": "1.5.0",
            "_view_name": "HTMLView",
            "description": "",
            "description_tooltip": null,
            "layout": "IPY_MODEL_3ee936ad08b9468abd21443806f4cee8",
            "placeholder": "​",
            "style": "IPY_MODEL_42df0a3a7c6c4a48982d54079abc5a47",
            "value": "Generating splits...: 100%"
          }
        },
        "3e1ebb01d1ce4ae5afc69f4f6eda1c19": {
          "model_module": "@jupyter-widgets/controls",
          "model_name": "FloatProgressModel",
          "model_module_version": "1.5.0",
          "state": {
            "_dom_classes": [],
            "_model_module": "@jupyter-widgets/controls",
            "_model_module_version": "1.5.0",
            "_model_name": "FloatProgressModel",
            "_view_count": null,
            "_view_module": "@jupyter-widgets/controls",
            "_view_module_version": "1.5.0",
            "_view_name": "ProgressView",
            "bar_style": "",
            "description": "",
            "description_tooltip": null,
            "layout": "IPY_MODEL_9e922826ebe04feda2aab5a3fa761dc1",
            "max": 1,
            "min": 0,
            "orientation": "horizontal",
            "style": "IPY_MODEL_815cb6067d4f4a86b279c066f2e7fb6b",
            "value": 1
          }
        },
        "ed257143dacd4d6a9009384cca1a37a3": {
          "model_module": "@jupyter-widgets/controls",
          "model_name": "HTMLModel",
          "model_module_version": "1.5.0",
          "state": {
            "_dom_classes": [],
            "_model_module": "@jupyter-widgets/controls",
            "_model_module_version": "1.5.0",
            "_model_name": "HTMLModel",
            "_view_count": null,
            "_view_module": "@jupyter-widgets/controls",
            "_view_module_version": "1.5.0",
            "_view_name": "HTMLView",
            "description": "",
            "description_tooltip": null,
            "layout": "IPY_MODEL_bc096201b02540e9817303bb4f7b7c42",
            "placeholder": "​",
            "style": "IPY_MODEL_929ccddbc5e2482bb5ca0121d7945918",
            "value": " 1/1 [00:57&lt;00:00, 57.98s/ splits]"
          }
        },
        "cb96802bc02b4971a51fbd10b5290119": {
          "model_module": "@jupyter-widgets/base",
          "model_name": "LayoutModel",
          "model_module_version": "1.2.0",
          "state": {
            "_model_module": "@jupyter-widgets/base",
            "_model_module_version": "1.2.0",
            "_model_name": "LayoutModel",
            "_view_count": null,
            "_view_module": "@jupyter-widgets/base",
            "_view_module_version": "1.2.0",
            "_view_name": "LayoutView",
            "align_content": null,
            "align_items": null,
            "align_self": null,
            "border": null,
            "bottom": null,
            "display": null,
            "flex": null,
            "flex_flow": null,
            "grid_area": null,
            "grid_auto_columns": null,
            "grid_auto_flow": null,
            "grid_auto_rows": null,
            "grid_column": null,
            "grid_gap": null,
            "grid_row": null,
            "grid_template_areas": null,
            "grid_template_columns": null,
            "grid_template_rows": null,
            "height": null,
            "justify_content": null,
            "justify_items": null,
            "left": null,
            "margin": null,
            "max_height": null,
            "max_width": null,
            "min_height": null,
            "min_width": null,
            "object_fit": null,
            "object_position": null,
            "order": null,
            "overflow": null,
            "overflow_x": null,
            "overflow_y": null,
            "padding": null,
            "right": null,
            "top": null,
            "visibility": "hidden",
            "width": null
          }
        },
        "3ee936ad08b9468abd21443806f4cee8": {
          "model_module": "@jupyter-widgets/base",
          "model_name": "LayoutModel",
          "model_module_version": "1.2.0",
          "state": {
            "_model_module": "@jupyter-widgets/base",
            "_model_module_version": "1.2.0",
            "_model_name": "LayoutModel",
            "_view_count": null,
            "_view_module": "@jupyter-widgets/base",
            "_view_module_version": "1.2.0",
            "_view_name": "LayoutView",
            "align_content": null,
            "align_items": null,
            "align_self": null,
            "border": null,
            "bottom": null,
            "display": null,
            "flex": null,
            "flex_flow": null,
            "grid_area": null,
            "grid_auto_columns": null,
            "grid_auto_flow": null,
            "grid_auto_rows": null,
            "grid_column": null,
            "grid_gap": null,
            "grid_row": null,
            "grid_template_areas": null,
            "grid_template_columns": null,
            "grid_template_rows": null,
            "height": null,
            "justify_content": null,
            "justify_items": null,
            "left": null,
            "margin": null,
            "max_height": null,
            "max_width": null,
            "min_height": null,
            "min_width": null,
            "object_fit": null,
            "object_position": null,
            "order": null,
            "overflow": null,
            "overflow_x": null,
            "overflow_y": null,
            "padding": null,
            "right": null,
            "top": null,
            "visibility": null,
            "width": null
          }
        },
        "42df0a3a7c6c4a48982d54079abc5a47": {
          "model_module": "@jupyter-widgets/controls",
          "model_name": "DescriptionStyleModel",
          "model_module_version": "1.5.0",
          "state": {
            "_model_module": "@jupyter-widgets/controls",
            "_model_module_version": "1.5.0",
            "_model_name": "DescriptionStyleModel",
            "_view_count": null,
            "_view_module": "@jupyter-widgets/base",
            "_view_module_version": "1.2.0",
            "_view_name": "StyleView",
            "description_width": ""
          }
        },
        "9e922826ebe04feda2aab5a3fa761dc1": {
          "model_module": "@jupyter-widgets/base",
          "model_name": "LayoutModel",
          "model_module_version": "1.2.0",
          "state": {
            "_model_module": "@jupyter-widgets/base",
            "_model_module_version": "1.2.0",
            "_model_name": "LayoutModel",
            "_view_count": null,
            "_view_module": "@jupyter-widgets/base",
            "_view_module_version": "1.2.0",
            "_view_name": "LayoutView",
            "align_content": null,
            "align_items": null,
            "align_self": null,
            "border": null,
            "bottom": null,
            "display": null,
            "flex": null,
            "flex_flow": null,
            "grid_area": null,
            "grid_auto_columns": null,
            "grid_auto_flow": null,
            "grid_auto_rows": null,
            "grid_column": null,
            "grid_gap": null,
            "grid_row": null,
            "grid_template_areas": null,
            "grid_template_columns": null,
            "grid_template_rows": null,
            "height": null,
            "justify_content": null,
            "justify_items": null,
            "left": null,
            "margin": null,
            "max_height": null,
            "max_width": null,
            "min_height": null,
            "min_width": null,
            "object_fit": null,
            "object_position": null,
            "order": null,
            "overflow": null,
            "overflow_x": null,
            "overflow_y": null,
            "padding": null,
            "right": null,
            "top": null,
            "visibility": null,
            "width": null
          }
        },
        "815cb6067d4f4a86b279c066f2e7fb6b": {
          "model_module": "@jupyter-widgets/controls",
          "model_name": "ProgressStyleModel",
          "model_module_version": "1.5.0",
          "state": {
            "_model_module": "@jupyter-widgets/controls",
            "_model_module_version": "1.5.0",
            "_model_name": "ProgressStyleModel",
            "_view_count": null,
            "_view_module": "@jupyter-widgets/base",
            "_view_module_version": "1.2.0",
            "_view_name": "StyleView",
            "bar_color": null,
            "description_width": ""
          }
        },
        "bc096201b02540e9817303bb4f7b7c42": {
          "model_module": "@jupyter-widgets/base",
          "model_name": "LayoutModel",
          "model_module_version": "1.2.0",
          "state": {
            "_model_module": "@jupyter-widgets/base",
            "_model_module_version": "1.2.0",
            "_model_name": "LayoutModel",
            "_view_count": null,
            "_view_module": "@jupyter-widgets/base",
            "_view_module_version": "1.2.0",
            "_view_name": "LayoutView",
            "align_content": null,
            "align_items": null,
            "align_self": null,
            "border": null,
            "bottom": null,
            "display": null,
            "flex": null,
            "flex_flow": null,
            "grid_area": null,
            "grid_auto_columns": null,
            "grid_auto_flow": null,
            "grid_auto_rows": null,
            "grid_column": null,
            "grid_gap": null,
            "grid_row": null,
            "grid_template_areas": null,
            "grid_template_columns": null,
            "grid_template_rows": null,
            "height": null,
            "justify_content": null,
            "justify_items": null,
            "left": null,
            "margin": null,
            "max_height": null,
            "max_width": null,
            "min_height": null,
            "min_width": null,
            "object_fit": null,
            "object_position": null,
            "order": null,
            "overflow": null,
            "overflow_x": null,
            "overflow_y": null,
            "padding": null,
            "right": null,
            "top": null,
            "visibility": null,
            "width": null
          }
        },
        "929ccddbc5e2482bb5ca0121d7945918": {
          "model_module": "@jupyter-widgets/controls",
          "model_name": "DescriptionStyleModel",
          "model_module_version": "1.5.0",
          "state": {
            "_model_module": "@jupyter-widgets/controls",
            "_model_module_version": "1.5.0",
            "_model_name": "DescriptionStyleModel",
            "_view_count": null,
            "_view_module": "@jupyter-widgets/base",
            "_view_module_version": "1.2.0",
            "_view_name": "StyleView",
            "description_width": ""
          }
        },
        "6c55b9d1d1be430ba1199d5994eaac13": {
          "model_module": "@jupyter-widgets/controls",
          "model_name": "HBoxModel",
          "model_module_version": "1.5.0",
          "state": {
            "_dom_classes": [],
            "_model_module": "@jupyter-widgets/controls",
            "_model_module_version": "1.5.0",
            "_model_name": "HBoxModel",
            "_view_count": null,
            "_view_module": "@jupyter-widgets/controls",
            "_view_module_version": "1.5.0",
            "_view_name": "HBoxView",
            "box_style": "",
            "children": [
              "IPY_MODEL_b083c0e818f74224b23ec5b1975ff79e",
              "IPY_MODEL_7880e762141e40bf8a442a87b944501a",
              "IPY_MODEL_57c321fa9a604adeb70779f78b7c40e7"
            ],
            "layout": "IPY_MODEL_f311586157e54df288715d0ffcd6e7e9"
          }
        },
        "b083c0e818f74224b23ec5b1975ff79e": {
          "model_module": "@jupyter-widgets/controls",
          "model_name": "HTMLModel",
          "model_module_version": "1.5.0",
          "state": {
            "_dom_classes": [],
            "_model_module": "@jupyter-widgets/controls",
            "_model_module_version": "1.5.0",
            "_model_name": "HTMLModel",
            "_view_count": null,
            "_view_module": "@jupyter-widgets/controls",
            "_view_module_version": "1.5.0",
            "_view_name": "HTMLView",
            "description": "",
            "description_tooltip": null,
            "layout": "IPY_MODEL_13199b2a17364a08ab3a995f356bc345",
            "placeholder": "​",
            "style": "IPY_MODEL_bfa71a6766774f909f8df9760ae34bf9",
            "value": "Generating train examples...: 100%"
          }
        },
        "7880e762141e40bf8a442a87b944501a": {
          "model_module": "@jupyter-widgets/controls",
          "model_name": "FloatProgressModel",
          "model_module_version": "1.5.0",
          "state": {
            "_dom_classes": [],
            "_model_module": "@jupyter-widgets/controls",
            "_model_module_version": "1.5.0",
            "_model_name": "FloatProgressModel",
            "_view_count": null,
            "_view_module": "@jupyter-widgets/controls",
            "_view_module_version": "1.5.0",
            "_view_name": "ProgressView",
            "bar_style": "",
            "description": "",
            "description_tooltip": null,
            "layout": "IPY_MODEL_a3b41f7e7ca14a1b83a9b8f2f4cdcc51",
            "max": 100000,
            "min": 0,
            "orientation": "horizontal",
            "style": "IPY_MODEL_89b0898c9c3d4e929411ed31023e84e1",
            "value": 100000
          }
        },
        "57c321fa9a604adeb70779f78b7c40e7": {
          "model_module": "@jupyter-widgets/controls",
          "model_name": "HTMLModel",
          "model_module_version": "1.5.0",
          "state": {
            "_dom_classes": [],
            "_model_module": "@jupyter-widgets/controls",
            "_model_module_version": "1.5.0",
            "_model_name": "HTMLModel",
            "_view_count": null,
            "_view_module": "@jupyter-widgets/controls",
            "_view_module_version": "1.5.0",
            "_view_name": "HTMLView",
            "description": "",
            "description_tooltip": null,
            "layout": "IPY_MODEL_5f701b6fe6af4e45947e023f2b6826c7",
            "placeholder": "​",
            "style": "IPY_MODEL_bd85cc86ac8f4ae984c957184d1ff857",
            "value": " 99721/100000 [00:57&lt;00:00, 2281.46 examples/s]"
          }
        },
        "f311586157e54df288715d0ffcd6e7e9": {
          "model_module": "@jupyter-widgets/base",
          "model_name": "LayoutModel",
          "model_module_version": "1.2.0",
          "state": {
            "_model_module": "@jupyter-widgets/base",
            "_model_module_version": "1.2.0",
            "_model_name": "LayoutModel",
            "_view_count": null,
            "_view_module": "@jupyter-widgets/base",
            "_view_module_version": "1.2.0",
            "_view_name": "LayoutView",
            "align_content": null,
            "align_items": null,
            "align_self": null,
            "border": null,
            "bottom": null,
            "display": null,
            "flex": null,
            "flex_flow": null,
            "grid_area": null,
            "grid_auto_columns": null,
            "grid_auto_flow": null,
            "grid_auto_rows": null,
            "grid_column": null,
            "grid_gap": null,
            "grid_row": null,
            "grid_template_areas": null,
            "grid_template_columns": null,
            "grid_template_rows": null,
            "height": null,
            "justify_content": null,
            "justify_items": null,
            "left": null,
            "margin": null,
            "max_height": null,
            "max_width": null,
            "min_height": null,
            "min_width": null,
            "object_fit": null,
            "object_position": null,
            "order": null,
            "overflow": null,
            "overflow_x": null,
            "overflow_y": null,
            "padding": null,
            "right": null,
            "top": null,
            "visibility": "hidden",
            "width": null
          }
        },
        "13199b2a17364a08ab3a995f356bc345": {
          "model_module": "@jupyter-widgets/base",
          "model_name": "LayoutModel",
          "model_module_version": "1.2.0",
          "state": {
            "_model_module": "@jupyter-widgets/base",
            "_model_module_version": "1.2.0",
            "_model_name": "LayoutModel",
            "_view_count": null,
            "_view_module": "@jupyter-widgets/base",
            "_view_module_version": "1.2.0",
            "_view_name": "LayoutView",
            "align_content": null,
            "align_items": null,
            "align_self": null,
            "border": null,
            "bottom": null,
            "display": null,
            "flex": null,
            "flex_flow": null,
            "grid_area": null,
            "grid_auto_columns": null,
            "grid_auto_flow": null,
            "grid_auto_rows": null,
            "grid_column": null,
            "grid_gap": null,
            "grid_row": null,
            "grid_template_areas": null,
            "grid_template_columns": null,
            "grid_template_rows": null,
            "height": null,
            "justify_content": null,
            "justify_items": null,
            "left": null,
            "margin": null,
            "max_height": null,
            "max_width": null,
            "min_height": null,
            "min_width": null,
            "object_fit": null,
            "object_position": null,
            "order": null,
            "overflow": null,
            "overflow_x": null,
            "overflow_y": null,
            "padding": null,
            "right": null,
            "top": null,
            "visibility": null,
            "width": null
          }
        },
        "bfa71a6766774f909f8df9760ae34bf9": {
          "model_module": "@jupyter-widgets/controls",
          "model_name": "DescriptionStyleModel",
          "model_module_version": "1.5.0",
          "state": {
            "_model_module": "@jupyter-widgets/controls",
            "_model_module_version": "1.5.0",
            "_model_name": "DescriptionStyleModel",
            "_view_count": null,
            "_view_module": "@jupyter-widgets/base",
            "_view_module_version": "1.2.0",
            "_view_name": "StyleView",
            "description_width": ""
          }
        },
        "a3b41f7e7ca14a1b83a9b8f2f4cdcc51": {
          "model_module": "@jupyter-widgets/base",
          "model_name": "LayoutModel",
          "model_module_version": "1.2.0",
          "state": {
            "_model_module": "@jupyter-widgets/base",
            "_model_module_version": "1.2.0",
            "_model_name": "LayoutModel",
            "_view_count": null,
            "_view_module": "@jupyter-widgets/base",
            "_view_module_version": "1.2.0",
            "_view_name": "LayoutView",
            "align_content": null,
            "align_items": null,
            "align_self": null,
            "border": null,
            "bottom": null,
            "display": null,
            "flex": null,
            "flex_flow": null,
            "grid_area": null,
            "grid_auto_columns": null,
            "grid_auto_flow": null,
            "grid_auto_rows": null,
            "grid_column": null,
            "grid_gap": null,
            "grid_row": null,
            "grid_template_areas": null,
            "grid_template_columns": null,
            "grid_template_rows": null,
            "height": null,
            "justify_content": null,
            "justify_items": null,
            "left": null,
            "margin": null,
            "max_height": null,
            "max_width": null,
            "min_height": null,
            "min_width": null,
            "object_fit": null,
            "object_position": null,
            "order": null,
            "overflow": null,
            "overflow_x": null,
            "overflow_y": null,
            "padding": null,
            "right": null,
            "top": null,
            "visibility": null,
            "width": null
          }
        },
        "89b0898c9c3d4e929411ed31023e84e1": {
          "model_module": "@jupyter-widgets/controls",
          "model_name": "ProgressStyleModel",
          "model_module_version": "1.5.0",
          "state": {
            "_model_module": "@jupyter-widgets/controls",
            "_model_module_version": "1.5.0",
            "_model_name": "ProgressStyleModel",
            "_view_count": null,
            "_view_module": "@jupyter-widgets/base",
            "_view_module_version": "1.2.0",
            "_view_name": "StyleView",
            "bar_color": null,
            "description_width": ""
          }
        },
        "5f701b6fe6af4e45947e023f2b6826c7": {
          "model_module": "@jupyter-widgets/base",
          "model_name": "LayoutModel",
          "model_module_version": "1.2.0",
          "state": {
            "_model_module": "@jupyter-widgets/base",
            "_model_module_version": "1.2.0",
            "_model_name": "LayoutModel",
            "_view_count": null,
            "_view_module": "@jupyter-widgets/base",
            "_view_module_version": "1.2.0",
            "_view_name": "LayoutView",
            "align_content": null,
            "align_items": null,
            "align_self": null,
            "border": null,
            "bottom": null,
            "display": null,
            "flex": null,
            "flex_flow": null,
            "grid_area": null,
            "grid_auto_columns": null,
            "grid_auto_flow": null,
            "grid_auto_rows": null,
            "grid_column": null,
            "grid_gap": null,
            "grid_row": null,
            "grid_template_areas": null,
            "grid_template_columns": null,
            "grid_template_rows": null,
            "height": null,
            "justify_content": null,
            "justify_items": null,
            "left": null,
            "margin": null,
            "max_height": null,
            "max_width": null,
            "min_height": null,
            "min_width": null,
            "object_fit": null,
            "object_position": null,
            "order": null,
            "overflow": null,
            "overflow_x": null,
            "overflow_y": null,
            "padding": null,
            "right": null,
            "top": null,
            "visibility": null,
            "width": null
          }
        },
        "bd85cc86ac8f4ae984c957184d1ff857": {
          "model_module": "@jupyter-widgets/controls",
          "model_name": "DescriptionStyleModel",
          "model_module_version": "1.5.0",
          "state": {
            "_model_module": "@jupyter-widgets/controls",
            "_model_module_version": "1.5.0",
            "_model_name": "DescriptionStyleModel",
            "_view_count": null,
            "_view_module": "@jupyter-widgets/base",
            "_view_module_version": "1.2.0",
            "_view_name": "StyleView",
            "description_width": ""
          }
        },
        "a07089bfc30749718f2c57cc54a091b0": {
          "model_module": "@jupyter-widgets/controls",
          "model_name": "HBoxModel",
          "model_module_version": "1.5.0",
          "state": {
            "_dom_classes": [],
            "_model_module": "@jupyter-widgets/controls",
            "_model_module_version": "1.5.0",
            "_model_name": "HBoxModel",
            "_view_count": null,
            "_view_module": "@jupyter-widgets/controls",
            "_view_module_version": "1.5.0",
            "_view_name": "HBoxView",
            "box_style": "",
            "children": [
              "IPY_MODEL_f0a0dff1969f4ba389727156d850ab37",
              "IPY_MODEL_ca273ec4bcc14c0b8dda0cfd4709ed6e",
              "IPY_MODEL_ff630817a63a4194954ab5bbf4c22363"
            ],
            "layout": "IPY_MODEL_4b959ee21d0841aaa1a4287105d061aa"
          }
        },
        "f0a0dff1969f4ba389727156d850ab37": {
          "model_module": "@jupyter-widgets/controls",
          "model_name": "HTMLModel",
          "model_module_version": "1.5.0",
          "state": {
            "_dom_classes": [],
            "_model_module": "@jupyter-widgets/controls",
            "_model_module_version": "1.5.0",
            "_model_name": "HTMLModel",
            "_view_count": null,
            "_view_module": "@jupyter-widgets/controls",
            "_view_module_version": "1.5.0",
            "_view_name": "HTMLView",
            "description": "",
            "description_tooltip": null,
            "layout": "IPY_MODEL_75c623295603435c9c62cf5fe474e058",
            "placeholder": "​",
            "style": "IPY_MODEL_ab294eaa2ec14a889d607a4dd78b7f63",
            "value": "Shuffling /root/tensorflow_datasets/movielens/100k-ratings/0.1.1.incomplete4571FG/movielens-train.tfrecord*...:  79%"
          }
        },
        "ca273ec4bcc14c0b8dda0cfd4709ed6e": {
          "model_module": "@jupyter-widgets/controls",
          "model_name": "FloatProgressModel",
          "model_module_version": "1.5.0",
          "state": {
            "_dom_classes": [],
            "_model_module": "@jupyter-widgets/controls",
            "_model_module_version": "1.5.0",
            "_model_name": "FloatProgressModel",
            "_view_count": null,
            "_view_module": "@jupyter-widgets/controls",
            "_view_module_version": "1.5.0",
            "_view_name": "ProgressView",
            "bar_style": "",
            "description": "",
            "description_tooltip": null,
            "layout": "IPY_MODEL_40aa22cdbbca4ee19ba7d6ccb4c50a80",
            "max": 100000,
            "min": 0,
            "orientation": "horizontal",
            "style": "IPY_MODEL_bc58c8dc60864d499f22c44cddae717e",
            "value": 100000
          }
        },
        "ff630817a63a4194954ab5bbf4c22363": {
          "model_module": "@jupyter-widgets/controls",
          "model_name": "HTMLModel",
          "model_module_version": "1.5.0",
          "state": {
            "_dom_classes": [],
            "_model_module": "@jupyter-widgets/controls",
            "_model_module_version": "1.5.0",
            "_model_name": "HTMLModel",
            "_view_count": null,
            "_view_module": "@jupyter-widgets/controls",
            "_view_module_version": "1.5.0",
            "_view_name": "HTMLView",
            "description": "",
            "description_tooltip": null,
            "layout": "IPY_MODEL_20061f4dc702441e8abe75540b102a73",
            "placeholder": "​",
            "style": "IPY_MODEL_a475a4e345c243cc8eed4368b7ac1371",
            "value": " 79148/100000 [00:00&lt;00:00, 210079.45 examples/s]"
          }
        },
        "4b959ee21d0841aaa1a4287105d061aa": {
          "model_module": "@jupyter-widgets/base",
          "model_name": "LayoutModel",
          "model_module_version": "1.2.0",
          "state": {
            "_model_module": "@jupyter-widgets/base",
            "_model_module_version": "1.2.0",
            "_model_name": "LayoutModel",
            "_view_count": null,
            "_view_module": "@jupyter-widgets/base",
            "_view_module_version": "1.2.0",
            "_view_name": "LayoutView",
            "align_content": null,
            "align_items": null,
            "align_self": null,
            "border": null,
            "bottom": null,
            "display": null,
            "flex": null,
            "flex_flow": null,
            "grid_area": null,
            "grid_auto_columns": null,
            "grid_auto_flow": null,
            "grid_auto_rows": null,
            "grid_column": null,
            "grid_gap": null,
            "grid_row": null,
            "grid_template_areas": null,
            "grid_template_columns": null,
            "grid_template_rows": null,
            "height": null,
            "justify_content": null,
            "justify_items": null,
            "left": null,
            "margin": null,
            "max_height": null,
            "max_width": null,
            "min_height": null,
            "min_width": null,
            "object_fit": null,
            "object_position": null,
            "order": null,
            "overflow": null,
            "overflow_x": null,
            "overflow_y": null,
            "padding": null,
            "right": null,
            "top": null,
            "visibility": "hidden",
            "width": null
          }
        },
        "75c623295603435c9c62cf5fe474e058": {
          "model_module": "@jupyter-widgets/base",
          "model_name": "LayoutModel",
          "model_module_version": "1.2.0",
          "state": {
            "_model_module": "@jupyter-widgets/base",
            "_model_module_version": "1.2.0",
            "_model_name": "LayoutModel",
            "_view_count": null,
            "_view_module": "@jupyter-widgets/base",
            "_view_module_version": "1.2.0",
            "_view_name": "LayoutView",
            "align_content": null,
            "align_items": null,
            "align_self": null,
            "border": null,
            "bottom": null,
            "display": null,
            "flex": null,
            "flex_flow": null,
            "grid_area": null,
            "grid_auto_columns": null,
            "grid_auto_flow": null,
            "grid_auto_rows": null,
            "grid_column": null,
            "grid_gap": null,
            "grid_row": null,
            "grid_template_areas": null,
            "grid_template_columns": null,
            "grid_template_rows": null,
            "height": null,
            "justify_content": null,
            "justify_items": null,
            "left": null,
            "margin": null,
            "max_height": null,
            "max_width": null,
            "min_height": null,
            "min_width": null,
            "object_fit": null,
            "object_position": null,
            "order": null,
            "overflow": null,
            "overflow_x": null,
            "overflow_y": null,
            "padding": null,
            "right": null,
            "top": null,
            "visibility": null,
            "width": null
          }
        },
        "ab294eaa2ec14a889d607a4dd78b7f63": {
          "model_module": "@jupyter-widgets/controls",
          "model_name": "DescriptionStyleModel",
          "model_module_version": "1.5.0",
          "state": {
            "_model_module": "@jupyter-widgets/controls",
            "_model_module_version": "1.5.0",
            "_model_name": "DescriptionStyleModel",
            "_view_count": null,
            "_view_module": "@jupyter-widgets/base",
            "_view_module_version": "1.2.0",
            "_view_name": "StyleView",
            "description_width": ""
          }
        },
        "40aa22cdbbca4ee19ba7d6ccb4c50a80": {
          "model_module": "@jupyter-widgets/base",
          "model_name": "LayoutModel",
          "model_module_version": "1.2.0",
          "state": {
            "_model_module": "@jupyter-widgets/base",
            "_model_module_version": "1.2.0",
            "_model_name": "LayoutModel",
            "_view_count": null,
            "_view_module": "@jupyter-widgets/base",
            "_view_module_version": "1.2.0",
            "_view_name": "LayoutView",
            "align_content": null,
            "align_items": null,
            "align_self": null,
            "border": null,
            "bottom": null,
            "display": null,
            "flex": null,
            "flex_flow": null,
            "grid_area": null,
            "grid_auto_columns": null,
            "grid_auto_flow": null,
            "grid_auto_rows": null,
            "grid_column": null,
            "grid_gap": null,
            "grid_row": null,
            "grid_template_areas": null,
            "grid_template_columns": null,
            "grid_template_rows": null,
            "height": null,
            "justify_content": null,
            "justify_items": null,
            "left": null,
            "margin": null,
            "max_height": null,
            "max_width": null,
            "min_height": null,
            "min_width": null,
            "object_fit": null,
            "object_position": null,
            "order": null,
            "overflow": null,
            "overflow_x": null,
            "overflow_y": null,
            "padding": null,
            "right": null,
            "top": null,
            "visibility": null,
            "width": null
          }
        },
        "bc58c8dc60864d499f22c44cddae717e": {
          "model_module": "@jupyter-widgets/controls",
          "model_name": "ProgressStyleModel",
          "model_module_version": "1.5.0",
          "state": {
            "_model_module": "@jupyter-widgets/controls",
            "_model_module_version": "1.5.0",
            "_model_name": "ProgressStyleModel",
            "_view_count": null,
            "_view_module": "@jupyter-widgets/base",
            "_view_module_version": "1.2.0",
            "_view_name": "StyleView",
            "bar_color": null,
            "description_width": ""
          }
        },
        "20061f4dc702441e8abe75540b102a73": {
          "model_module": "@jupyter-widgets/base",
          "model_name": "LayoutModel",
          "model_module_version": "1.2.0",
          "state": {
            "_model_module": "@jupyter-widgets/base",
            "_model_module_version": "1.2.0",
            "_model_name": "LayoutModel",
            "_view_count": null,
            "_view_module": "@jupyter-widgets/base",
            "_view_module_version": "1.2.0",
            "_view_name": "LayoutView",
            "align_content": null,
            "align_items": null,
            "align_self": null,
            "border": null,
            "bottom": null,
            "display": null,
            "flex": null,
            "flex_flow": null,
            "grid_area": null,
            "grid_auto_columns": null,
            "grid_auto_flow": null,
            "grid_auto_rows": null,
            "grid_column": null,
            "grid_gap": null,
            "grid_row": null,
            "grid_template_areas": null,
            "grid_template_columns": null,
            "grid_template_rows": null,
            "height": null,
            "justify_content": null,
            "justify_items": null,
            "left": null,
            "margin": null,
            "max_height": null,
            "max_width": null,
            "min_height": null,
            "min_width": null,
            "object_fit": null,
            "object_position": null,
            "order": null,
            "overflow": null,
            "overflow_x": null,
            "overflow_y": null,
            "padding": null,
            "right": null,
            "top": null,
            "visibility": null,
            "width": null
          }
        },
        "a475a4e345c243cc8eed4368b7ac1371": {
          "model_module": "@jupyter-widgets/controls",
          "model_name": "DescriptionStyleModel",
          "model_module_version": "1.5.0",
          "state": {
            "_model_module": "@jupyter-widgets/controls",
            "_model_module_version": "1.5.0",
            "_model_name": "DescriptionStyleModel",
            "_view_count": null,
            "_view_module": "@jupyter-widgets/base",
            "_view_module_version": "1.2.0",
            "_view_name": "StyleView",
            "description_width": ""
          }
        }
      }
    }
  },
  "cells": [
    {
      "cell_type": "markdown",
      "metadata": {
        "id": "view-in-github",
        "colab_type": "text"
      },
      "source": [
        "<a href=\"https://colab.research.google.com/github/seyone22/ai_testing/blob/main/Books_Sample.ipynb\" target=\"_parent\"><img src=\"https://colab.research.google.com/assets/colab-badge.svg\" alt=\"Open In Colab\"/></a>"
      ]
    },
    {
      "cell_type": "markdown",
      "source": [
        "## Setup"
      ],
      "metadata": {
        "id": "ijGtB1UCBRbh"
      }
    },
    {
      "cell_type": "code",
      "execution_count": null,
      "metadata": {
        "colab": {
          "base_uri": "https://localhost:8080/",
          "height": 169,
          "referenced_widgets": [
            "2bcf19728b6a480f96c2deeb74fb441e",
            "ef662f4ac97540f48d2ab41ff5f564b9",
            "2a1e403d9c124535a22bbf0ca96272b6",
            "04d539e9791240d18fb11a25d10eb003",
            "1498dec4d7c14aa2a57f3982c66e5eff",
            "7d391c3b2efe46ea9ca3d8605ca99a61",
            "767f393b08c3482ca281cb96b68cfa2b",
            "c1639c786b924f0ea5d8f7d51214455c",
            "6e88f5e0821e4ddab8628087d21cf2bd",
            "9c5721dca48d4ea1ae591a2c56f9f5ab",
            "1eb45047236f4c22be0e56f14a6c91b3",
            "4f03dab14f9a4588b63f07cb3a183548",
            "1c746bc4e33941798ca0ceec3733b66c",
            "c8a32a64359148538403dea3160b8a8e",
            "bb794019fb8d4531ac5a3efa56ac4dda",
            "d8638a7b52454acbbb8d7253f272dc1b",
            "f27745673bac4215809baee701be8ceb",
            "300f1c43e7014058b66840af4dfc0f6c",
            "b69b432525cc4bb08bfbfda9c76edded",
            "6c4e439d630246b384236f8787718efa",
            "70afab10e20a4b6893a99afe0c5edf82",
            "b2abf3a4d99c4bb9bd3a356c1cdd19d3",
            "7f8b589ed70d4e0585cc40a7693f1680",
            "4303db8191a84e3b8fd32d07a3504d49",
            "ca3ee96ae5ac40fdb590cd0e8d7fd9cc",
            "0cfe42ae57444bc5b644ca06331c743f",
            "335a13eddc2f4893abeddd1a3ad57411",
            "14e0e9231518460d844750133dce93a5",
            "46c1886103f2459886bf658f33b2f985",
            "d0e471ab966347a2a761acffb60c9cb1",
            "8c7f155aeef747f2921f11ce2e69029f",
            "8cafa7622add4a908380a9f071eb5aaf",
            "8be4aa63e8df4ad5b7591f7385304a75",
            "b918a37a450044c4aabef991fd6bae82",
            "612b6b23dd954a35a035b5647c58f753",
            "3e1ebb01d1ce4ae5afc69f4f6eda1c19",
            "ed257143dacd4d6a9009384cca1a37a3",
            "cb96802bc02b4971a51fbd10b5290119",
            "3ee936ad08b9468abd21443806f4cee8",
            "42df0a3a7c6c4a48982d54079abc5a47",
            "9e922826ebe04feda2aab5a3fa761dc1",
            "815cb6067d4f4a86b279c066f2e7fb6b",
            "bc096201b02540e9817303bb4f7b7c42",
            "929ccddbc5e2482bb5ca0121d7945918",
            "6c55b9d1d1be430ba1199d5994eaac13",
            "b083c0e818f74224b23ec5b1975ff79e",
            "7880e762141e40bf8a442a87b944501a",
            "57c321fa9a604adeb70779f78b7c40e7",
            "f311586157e54df288715d0ffcd6e7e9",
            "13199b2a17364a08ab3a995f356bc345",
            "bfa71a6766774f909f8df9760ae34bf9",
            "a3b41f7e7ca14a1b83a9b8f2f4cdcc51",
            "89b0898c9c3d4e929411ed31023e84e1",
            "5f701b6fe6af4e45947e023f2b6826c7",
            "bd85cc86ac8f4ae984c957184d1ff857",
            "a07089bfc30749718f2c57cc54a091b0",
            "f0a0dff1969f4ba389727156d850ab37",
            "ca273ec4bcc14c0b8dda0cfd4709ed6e",
            "ff630817a63a4194954ab5bbf4c22363",
            "4b959ee21d0841aaa1a4287105d061aa",
            "75c623295603435c9c62cf5fe474e058",
            "ab294eaa2ec14a889d607a4dd78b7f63",
            "40aa22cdbbca4ee19ba7d6ccb4c50a80",
            "bc58c8dc60864d499f22c44cddae717e",
            "20061f4dc702441e8abe75540b102a73",
            "a475a4e345c243cc8eed4368b7ac1371"
          ]
        },
        "id": "_S-p19zmoCR6",
        "outputId": "0d30739c-0c26-445c-a3a2-0c071524c8f6"
      },
      "outputs": [
        {
          "output_type": "stream",
          "name": "stdout",
          "text": [
            "Downloading and preparing dataset 4.70 MiB (download: 4.70 MiB, generated: 32.41 MiB, total: 37.10 MiB) to /root/tensorflow_datasets/movielens/100k-ratings/0.1.1...\n"
          ]
        },
        {
          "output_type": "display_data",
          "data": {
            "text/plain": [
              "Dl Completed...: 0 url [00:00, ? url/s]"
            ],
            "application/vnd.jupyter.widget-view+json": {
              "version_major": 2,
              "version_minor": 0,
              "model_id": "2bcf19728b6a480f96c2deeb74fb441e"
            }
          },
          "metadata": {}
        },
        {
          "output_type": "display_data",
          "data": {
            "text/plain": [
              "Dl Size...: 0 MiB [00:00, ? MiB/s]"
            ],
            "application/vnd.jupyter.widget-view+json": {
              "version_major": 2,
              "version_minor": 0,
              "model_id": "4f03dab14f9a4588b63f07cb3a183548"
            }
          },
          "metadata": {}
        },
        {
          "output_type": "display_data",
          "data": {
            "text/plain": [
              "Extraction completed...: 0 file [00:00, ? file/s]"
            ],
            "application/vnd.jupyter.widget-view+json": {
              "version_major": 2,
              "version_minor": 0,
              "model_id": "7f8b589ed70d4e0585cc40a7693f1680"
            }
          },
          "metadata": {}
        },
        {
          "output_type": "display_data",
          "data": {
            "text/plain": [
              "Generating splits...:   0%|          | 0/1 [00:00<?, ? splits/s]"
            ],
            "application/vnd.jupyter.widget-view+json": {
              "version_major": 2,
              "version_minor": 0,
              "model_id": "b918a37a450044c4aabef991fd6bae82"
            }
          },
          "metadata": {}
        },
        {
          "output_type": "display_data",
          "data": {
            "text/plain": [
              "Generating train examples...:   0%|          | 0/100000 [00:00<?, ? examples/s]"
            ],
            "application/vnd.jupyter.widget-view+json": {
              "version_major": 2,
              "version_minor": 0,
              "model_id": "6c55b9d1d1be430ba1199d5994eaac13"
            }
          },
          "metadata": {}
        },
        {
          "output_type": "display_data",
          "data": {
            "text/plain": [
              "Shuffling /root/tensorflow_datasets/movielens/100k-ratings/0.1.1.incomplete4571FG/movielens-train.tfrecord*...…"
            ],
            "application/vnd.jupyter.widget-view+json": {
              "version_major": 2,
              "version_minor": 0,
              "model_id": "a07089bfc30749718f2c57cc54a091b0"
            }
          },
          "metadata": {}
        },
        {
          "output_type": "stream",
          "name": "stdout",
          "text": [
            "Dataset movielens downloaded and prepared to /root/tensorflow_datasets/movielens/100k-ratings/0.1.1. Subsequent calls will reuse this data.\n"
          ]
        }
      ],
      "source": [
        "# Import the movielens dataset into the notebook, and load it with tfds\n",
        "import tensorflow_datasets as tfds;\n",
        "\n",
        "ratings_dataset, ratings_dataset_info = tfds.load(\n",
        "    name='movielens/100k-ratings',\n",
        "    split='train',\n",
        "    with_info=True\n",
        ")\n",
        "\n",
        "# TODO: Load our book dataset into the notebook."
      ]
    },
    {
      "cell_type": "code",
      "source": [
        "import tensorflow as tf\n",
        "assert isinstance(ratings_dataset, tf.data.Dataset)\n",
        "\n",
        "# Get the size of the dataset (100,000 in this case)\n",
        "print(\"ratings_dataset size: %d\" % ratings_dataset.__len__())\n",
        "\n",
        "# See 5 sample elements from the dataset.\n",
        "print(\n",
        "    tfds.as_dataframe(ratings_dataset.take(5), ratings_dataset_info)\n",
        ")"
      ],
      "metadata": {
        "colab": {
          "base_uri": "https://localhost:8080/"
        },
        "id": "rXDcxOJ8orQF",
        "outputId": "5f31c19d-a8d0-4e48-fd60-5385662769ac"
      },
      "execution_count": null,
      "outputs": [
        {
          "output_type": "stream",
          "name": "stdout",
          "text": [
            "ratings_dataset size: 100000\n",
            "   bucketized_user_age movie_genres movie_id  \\\n",
            "0                 45.0          [7]   b'357'   \n",
            "1                 25.0      [4, 14]   b'709'   \n",
            "2                 18.0          [4]   b'412'   \n",
            "3                 50.0       [5, 7]    b'56'   \n",
            "4                 50.0     [10, 16]   b'895'   \n",
            "\n",
            "                                 movie_title  raw_user_age  timestamp  \\\n",
            "0  b\"One Flew Over the Cuckoo's Nest (1975)\"          46.0  879024327   \n",
            "1                b'Strictly Ballroom (1992)'          32.0  875654590   \n",
            "2             b'Very Brady Sequel, A (1996)'          24.0  882075110   \n",
            "3                     b'Pulp Fiction (1994)'          50.0  883326919   \n",
            "4                         b'Scream 2 (1997)'          55.0  891409199   \n",
            "\n",
            "   user_gender user_id  user_occupation_label user_occupation_text  \\\n",
            "0         True  b'138'                      4            b'doctor'   \n",
            "1         True   b'92'                      5     b'entertainment'   \n",
            "2         True  b'301'                     17           b'student'   \n",
            "3         True   b'60'                      4        b'healthcare'   \n",
            "4         True  b'197'                     18        b'technician'   \n",
            "\n",
            "   user_rating user_zip_code  \n",
            "0          4.0      b'53211'  \n",
            "1          2.0      b'80525'  \n",
            "2          4.0      b'55439'  \n",
            "3          4.0      b'06472'  \n",
            "4          3.0      b'75094'  \n"
          ]
        }
      ]
    },
    {
      "cell_type": "code",
      "source": [
        "# Map the dataset into an object called rating\n",
        "ratings_dataset = ratings_dataset.map(\n",
        "    lambda rating: {\n",
        "        'user_id' : rating['user_id'],\n",
        "        'movie_id' : rating['movie_id'],\n",
        "        'movie_title' : rating['movie_title'],\n",
        "        'user_rating' : rating['user_rating'],\n",
        "        'timestamp' : rating['timestamp']\n",
        "    }\n",
        ")\n",
        "\n",
        "print(\n",
        "    tfds.as_dataframe(ratings_dataset.take(5), ratings_dataset_info)\n",
        ")"
      ],
      "metadata": {
        "colab": {
          "base_uri": "https://localhost:8080/"
        },
        "id": "wphhrKfCpPKs",
        "outputId": "22343fa8-1f62-47b5-87b7-b5f293ea89ab"
      },
      "execution_count": null,
      "outputs": [
        {
          "output_type": "stream",
          "name": "stdout",
          "text": [
            "  movie_id                                movie_title  timestamp user_id  \\\n",
            "0   b'357'  b\"One Flew Over the Cuckoo's Nest (1975)\"  879024327  b'138'   \n",
            "1   b'709'                b'Strictly Ballroom (1992)'  875654590   b'92'   \n",
            "2   b'412'             b'Very Brady Sequel, A (1996)'  882075110  b'301'   \n",
            "3    b'56'                     b'Pulp Fiction (1994)'  883326919   b'60'   \n",
            "4   b'895'                         b'Scream 2 (1997)'  891409199  b'197'   \n",
            "\n",
            "   user_rating  \n",
            "0          4.0  \n",
            "1          2.0  \n",
            "2          4.0  \n",
            "3          4.0  \n",
            "4          3.0  \n"
          ]
        }
      ]
    },
    {
      "cell_type": "code",
      "source": [
        "# Split the data into a trainset, and a testset\n",
        "trainset_size = 0.8 * ratings_dataset.__len__().numpy()\n",
        "\n",
        "tf.random.set_seed(42)\n",
        "\n",
        "# Shuffle the dataset\n",
        "ratings_dataset_shuffled = ratings_dataset.shuffle(\n",
        "    buffer_size = 100_000,\n",
        "    seed = 42,\n",
        "    reshuffle_each_iteration = False\n",
        ")\n",
        "\n",
        "# Take out the trainset and testset from the shuffled data\n",
        "ratings_trainset = ratings_dataset_shuffled.take(trainset_size)\n",
        "ratings_testset = ratings_dataset_shuffled.skip(trainset_size)\n",
        "\n",
        "# Show how much each dataset has\n",
        "print(\n",
        "    \"ratings_trainset size: %d\" % ratings_trainset.__len__()\n",
        ")\n",
        "print(\n",
        "    \"ratings_testset size: %d\" % ratings_testset.__len__()\n",
        ")\n",
        "\n"
      ],
      "metadata": {
        "colab": {
          "base_uri": "https://localhost:8080/"
        },
        "id": "dEizQxw_p1PZ",
        "outputId": "e7005129-cdc9-409c-d42f-ce3df7ef5c61"
      },
      "execution_count": null,
      "outputs": [
        {
          "output_type": "stream",
          "name": "stdout",
          "text": [
            "ratings_trainset size: 80000\n",
            "ratings_testset size: 20000\n"
          ]
        }
      ]
    },
    {
      "cell_type": "markdown",
      "source": [
        "## Preprocessing"
      ],
      "metadata": {
        "id": "LEz7H3j2rTzC"
      }
    },
    {
      "cell_type": "code",
      "source": [
        "from pprint import pprint\n",
        "\n",
        "# Show the first element in the trainset.\n",
        "for rating in ratings_trainset.take(1).as_numpy_iterator():\n",
        "  pprint(rating)"
      ],
      "metadata": {
        "colab": {
          "base_uri": "https://localhost:8080/"
        },
        "id": "yMqu3lPurUIO",
        "outputId": "4e98dfeb-ddbf-4458-b313-889a3710e18b"
      },
      "execution_count": null,
      "outputs": [
        {
          "output_type": "stream",
          "name": "stdout",
          "text": [
            "{'movie_id': b'898',\n",
            " 'movie_title': b'Postman, The (1997)',\n",
            " 'timestamp': 885409515,\n",
            " 'user_id': b'681',\n",
            " 'user_rating': 4.0}\n"
          ]
        }
      ]
    },
    {
      "cell_type": "code",
      "source": [
        "# Normalization layer for timestamp. It's a numeric.\n",
        "timestamp_normalization_layer = \\\n",
        "  tf.keras.layers.experimental.preprocessing.Normalization(axis=None)\n",
        "\n",
        "timestamp_normalization_layer.adapt(\n",
        "    ratings_trainset.map(\n",
        "        lambda x: x['timestamp']\n",
        "    )\n",
        ")\n",
        "\n",
        "for rating in ratings_trainset.take(3).as_numpy_iterator():\n",
        "  print(\n",
        "      f\"Raw Timestamp: {rating['timestamp']} ->\",\n",
        "      f\"Normalized Timestamp: {timestamp_normalization_layer(rating['timestamp'])}\"\n",
        "  )"
      ],
      "metadata": {
        "colab": {
          "base_uri": "https://localhost:8080/"
        },
        "id": "QUnP6jMdrn6Y",
        "outputId": "3d341a18-1a32-45d6-c40b-21f5fa0a6287"
      },
      "execution_count": null,
      "outputs": [
        {
          "output_type": "stream",
          "name": "stdout",
          "text": [
            "Raw Timestamp: 885409515 -> Normalized Timestamp: 0.3537561595439911\n",
            "Raw Timestamp: 883388887 -> Normalized Timestamp: -0.02487170137465\n",
            "Raw Timestamp: 891249586 -> Normalized Timestamp: 1.4480509757995605\n"
          ]
        }
      ]
    },
    {
      "cell_type": "code",
      "source": [
        "# Normalization of userIds, to create embeddings\n",
        "user_id_lookup_layer = \\\n",
        "  tf.keras.layers.experimental.preprocessing.StringLookup(mask_token=None)\n",
        "\n",
        "user_id_lookup_layer.adapt(\n",
        "    ratings_trainset.map(\n",
        "        lambda x: x['user_id']\n",
        "    )\n",
        ")\n",
        "\n",
        "print(\n",
        "    f\"Vocabulary[:10] -> {user_id_lookup_layer.get_vocabulary()[:10]}\"\n",
        ")\n",
        "\n",
        "print(\n",
        "    \"Mapped integer for user ids: ['-2', '13', '655', 'xxx']\\n\",\n",
        "    user_id_lookup_layer(\n",
        "        ['-2', '13', '655', 'xxx']\n",
        "    )\n",
        ")\n",
        "\n",
        "user_id_embedding_dim = 32\n",
        "\n",
        "user_id_embedding_layer = tf.keras.layers.Embedding(\n",
        "    input_dim=user_id_lookup_layer.vocabulary_size(),\n",
        "    output_dim=user_id_embedding_dim\n",
        ")\n",
        "\n",
        "user_id_model = tf.keras.Sequential(\n",
        "    [\n",
        "        user_id_lookup_layer,\n",
        "        user_id_embedding_layer\n",
        "    ]\n",
        ")\n",
        "\n",
        "print(\n",
        "    \"Embeddings for user ids: ['-2', '13', '655', 'xxx]\\n\",\n",
        "    user_id_model(\n",
        "        ['-2', '13', '655', 'xxx']\n",
        "    )\n",
        ")"
      ],
      "metadata": {
        "colab": {
          "base_uri": "https://localhost:8080/"
        },
        "id": "QISJ52bos7H1",
        "outputId": "4e30a790-a5f1-44f7-b298-8318413e3bad"
      },
      "execution_count": null,
      "outputs": [
        {
          "output_type": "stream",
          "name": "stdout",
          "text": [
            "Vocabulary[:10] -> ['[UNK]', '405', '655', '13', '450', '276', '303', '416', '537', '234']\n",
            "Mapped integer for user ids: ['-2', '13', '655', 'xxx']\n",
            " tf.Tensor([0 3 2 0], shape=(4,), dtype=int64)\n",
            "Embeddings for user ids: ['-2', '13', '655', 'xxx]\n",
            " tf.Tensor(\n",
            "[[ 0.02112819  0.00262235 -0.02042791  0.04211975 -0.02216019  0.03135623\n",
            "  -0.00802011  0.01017022  0.04799832  0.021168    0.04570783  0.01806263\n",
            "  -0.01670346  0.04920539 -0.021676   -0.03416904 -0.03673298 -0.02711605\n",
            "  -0.00583205  0.0274017   0.04901491 -0.01575196  0.00350817  0.00945561\n",
            "   0.04201725 -0.01290593 -0.03604493 -0.03572863  0.00432992 -0.04707686\n",
            "   0.00760179  0.02500672]\n",
            " [-0.01197063 -0.04320464 -0.0058319  -0.00313162  0.03246048  0.0443706\n",
            "   0.00312611 -0.04078434  0.02966878 -0.01190946 -0.04038477  0.0242837\n",
            "   0.01476398 -0.01316309  0.0062896   0.03323462 -0.00045869  0.03286381\n",
            "   0.0078728  -0.00334858  0.00123562  0.02519168  0.0096177  -0.04310676\n",
            "   0.00112069  0.04221225  0.01914642  0.01149434 -0.04798254  0.02344555\n",
            "  -0.04183525 -0.0349262 ]\n",
            " [-0.03269737  0.02711919  0.04057511 -0.01391276  0.01205251 -0.03120675\n",
            "   0.01134024 -0.006115   -0.00680802  0.04301722 -0.03068997 -0.01710423\n",
            "  -0.03527451  0.00860144 -0.00369858  0.02073606 -0.04456886  0.01055366\n",
            "  -0.02536576  0.03675783  0.03241128  0.00456637 -0.03911113  0.03982599\n",
            "   0.0165128  -0.01649274  0.02949612  0.04406572 -0.00696423  0.01699611\n",
            "  -0.04469005  0.047052  ]\n",
            " [ 0.02112819  0.00262235 -0.02042791  0.04211975 -0.02216019  0.03135623\n",
            "  -0.00802011  0.01017022  0.04799832  0.021168    0.04570783  0.01806263\n",
            "  -0.01670346  0.04920539 -0.021676   -0.03416904 -0.03673298 -0.02711605\n",
            "  -0.00583205  0.0274017   0.04901491 -0.01575196  0.00350817  0.00945561\n",
            "   0.04201725 -0.01290593 -0.03604493 -0.03572863  0.00432992 -0.04707686\n",
            "   0.00760179  0.02500672]], shape=(4, 32), dtype=float32)\n"
          ]
        }
      ]
    },
    {
      "cell_type": "code",
      "source": [
        "# Normaliation of movie_Id, to create embeddings\n",
        "movie_id_lookup_layer = \\\n",
        "  tf.keras.layers.experimental.preprocessing.StringLookup(mask_token=None)\n",
        "\n",
        "movie_id_lookup_layer.adapt(\n",
        "    ratings_trainset.map(\n",
        "        lambda x: x['movie_id']\n",
        "    )\n",
        ")\n",
        "\n",
        "movie_id_embedding_dim = 32\n",
        "\n",
        "movie_id_embedding_layer = tf.keras.layers.Embedding(\n",
        "    input_dim=movie_id_lookup_layer.vocab_size(),\n",
        "    output_dim=movie_id_embedding_dim\n",
        ")\n",
        "\n",
        "movie_id_model = tf.keras.Sequential(\n",
        "    [\n",
        "        movie_id_lookup_layer,\n",
        "        movie_id_embedding_layer\n",
        "    ]\n",
        ")\n",
        "\n",
        "print(\n",
        "    f\"Embedding for the movie 898:\\n {movie_id_model('898')}\"\n",
        ")"
      ],
      "metadata": {
        "colab": {
          "base_uri": "https://localhost:8080/"
        },
        "id": "_viiN313vngj",
        "outputId": "6779fe7d-3f1c-4634-ba95-a94b873488fe"
      },
      "execution_count": null,
      "outputs": [
        {
          "output_type": "stream",
          "name": "stderr",
          "text": [
            "WARNING:tensorflow:vocab_size is deprecated, please use vocabulary_size.\n"
          ]
        },
        {
          "output_type": "stream",
          "name": "stdout",
          "text": [
            "Embedding for the movie 898:\n",
            " [ 0.01248167  0.03173753 -0.02201745 -0.03709877 -0.01106628  0.04616568\n",
            "  0.00935204 -0.01339965 -0.04600736 -0.02841519  0.03094841 -0.02536848\n",
            " -0.03632555 -0.04773235  0.00893506  0.04023707  0.02679918 -0.02874419\n",
            " -0.03192308 -0.03390054  0.04741396  0.00069331 -0.00847106 -0.03336622\n",
            " -0.01280396 -0.00882554 -0.04911814  0.00769348 -0.03936279 -0.02116586\n",
            " -0.00080782  0.00164226]\n"
          ]
        }
      ]
    },
    {
      "cell_type": "code",
      "source": [
        "# Vectorize the movie title,\n",
        "movie_title_vectorization_layer = \\\n",
        "  tf.keras.layers.experimental.preprocessing.TextVectorization()\n",
        "movie_title_vectorization_layer.adapt(\n",
        "    ratings_trainset.map(\n",
        "        lambda rating: rating['movie_title']\n",
        "    )\n",
        ")\n",
        "\n",
        "print(\n",
        "    \"Vocabulary[40:50] -> \",\n",
        "    movie_title_vectorization_layer('Postman, The (1997)')\n",
        ")\n",
        "\n",
        "movie_title_embedding_dim = 32\n",
        "movie_title_embedding_layer = tf.keras.layers.Embedding(\n",
        "    input_dim=len(movie_title_vectorization_layer.get_vocabulary()),\n",
        "    output_dim=movie_title_embedding_dim,\n",
        "    mask_zero=True\n",
        ")\n",
        "\n",
        "movie_title_model = tf.keras.Sequential(\n",
        "    [\n",
        "        movie_title_vectorization_layer,\n",
        "        movie_title_embedding_layer,\n",
        "        tf.keras.layers.GlobalAveragePooling1D()\n",
        "    ]\n",
        ")"
      ],
      "metadata": {
        "colab": {
          "base_uri": "https://localhost:8080/"
        },
        "id": "wcoUOPeLYQCc",
        "outputId": "b3e71ada-0f8e-42df-d165-8558edfc7307"
      },
      "execution_count": null,
      "outputs": [
        {
          "output_type": "stream",
          "name": "stdout",
          "text": [
            "Vocabulary[40:50] ->  tf.Tensor([1120    2    4], shape=(3,), dtype=int64)\n"
          ]
        }
      ]
    },
    {
      "cell_type": "markdown",
      "source": [
        "## Query and Candidate Representation\n"
      ],
      "metadata": {
        "id": "lsypwgxvlzrA"
      }
    },
    {
      "cell_type": "code",
      "source": [
        "# We're using the userIds as the query model, and movieIds as the candidate model\n",
        "# (Inputs and outputs)\n",
        "query_model = user_id_model\n",
        "candidate_model = movie_id_model\n",
        "\n",
        "retrieval_ratings_trainset = ratings_trainset.map(\n",
        "    lambda rating: {\n",
        "        'user_id' : rating['user_id'],\n",
        "        'movie_id' : rating['movie_id']\n",
        "    }\n",
        ")\n",
        "retrieval_ratings_testset = ratings_testset.map(\n",
        "    lambda rating: {\n",
        "        'user_id' : rating['user_id'],\n",
        "        'movie_id' : rating['movie_id']\n",
        "    }\n",
        ")"
      ],
      "metadata": {
        "id": "OSnFbYsPl878"
      },
      "execution_count": null,
      "outputs": []
    },
    {
      "cell_type": "code",
      "source": [
        "# Load the movie data\n",
        "movies_dataset, movies_dataset_info = tfds.load(\n",
        "    name='movielens/100k-movies',\n",
        "    split='train',\n",
        "    with_info=True\n",
        ")\n",
        "\n",
        "# Print the loaded data as a dataframe\n",
        "print(\n",
        "    tfds.as_dataframe(movies_dataset.take(5), movies_dataset_info)\n",
        ")\n",
        "\n",
        "candidates_corpus_dataset = movies_dataset.map(\n",
        "    lambda movie: movie['movie_id']\n",
        ")\n",
        "\n",
        "# See 5 sample elements from the dataset.\n",
        "print(\n",
        "    tfds.as_dataframe(movies_dataset.take(5), movies_dataset_info)\n",
        ")\n"
      ],
      "metadata": {
        "id": "2WUVLQIJnlXP",
        "colab": {
          "base_uri": "https://localhost:8080/"
        },
        "outputId": "9ea8e49c-38dc-403a-f2fe-565100fa8d65"
      },
      "execution_count": 91,
      "outputs": [
        {
          "output_type": "stream",
          "name": "stdout",
          "text": [
            "  movie_genres movie_id                      movie_title\n",
            "0          [4]  b'1681'           b'You So Crazy (1994)'\n",
            "1       [4, 7]  b'1457'   b'Love Is All There Is (1996)'\n",
            "2       [1, 3]   b'500'          b'Fly Away Home (1996)'\n",
            "3          [0]   b'838'  b'In the Line of Duty 2 (1987)'\n",
            "4          [7]  b'1648'       b'Niagara, Niagara (1997)'\n",
            "  movie_genres movie_id                      movie_title\n",
            "0          [4]  b'1681'           b'You So Crazy (1994)'\n",
            "1       [4, 7]  b'1457'   b'Love Is All There Is (1996)'\n",
            "2       [1, 3]   b'500'          b'Fly Away Home (1996)'\n",
            "3          [0]   b'838'  b'In the Line of Duty 2 (1987)'\n",
            "4          [7]  b'1648'       b'Niagara, Niagara (1997)'\n"
          ]
        }
      ]
    },
    {
      "cell_type": "code",
      "source": [
        "# Install tensorflow recommenders\n",
        "!pip install -q scann tensorflow-recommenders\n",
        "import tensorflow_recommenders as tfrs\n",
        "\n",
        "# This is the metric by which we'll be measuring the perfomrance of our model\n",
        "factorized_top_k_metrics = tfrs.metrics.FactorizedTopK(\n",
        "    candidates=candidates_corpus_dataset.batch(128).map(\n",
        "        candidate_model\n",
        "    )\n",
        ")\n",
        "\n",
        "# Create the retrieval task\n",
        "retrieval_task_layer = tfrs.tasks.Retrieval(\n",
        "    metrics=factorized_top_k_metrics\n",
        ")"
      ],
      "metadata": {
        "id": "F5aTtP-CIrqd",
        "colab": {
          "base_uri": "https://localhost:8080/",
          "height": 110
        },
        "outputId": "9766ef80-1e02-4d8b-e67b-dddeb29794ae"
      },
      "execution_count": null,
      "outputs": [
        {
          "output_type": "error",
          "ename": "SyntaxError",
          "evalue": "invalid syntax (<ipython-input-17-368aa83d3479>, line 2)",
          "traceback": [
            "\u001b[0;36m  File \u001b[0;32m\"<ipython-input-17-368aa83d3479>\"\u001b[0;36m, line \u001b[0;32m2\u001b[0m\n\u001b[0;31m    pip install -q scann tensorflow-recommenders\u001b[0m\n\u001b[0m        ^\u001b[0m\n\u001b[0;31mSyntaxError\u001b[0m\u001b[0;31m:\u001b[0m invalid syntax\n"
          ]
        }
      ]
    },
    {
      "cell_type": "code",
      "source": [
        "class RetrievalModel(tfrs.models.Model):\n",
        "  \"\"\"MovieLens candidate generation model\"\"\"\n",
        "\n",
        "  def __init__(self, query_model, candidate_model, retrieval_task_layer):\n",
        "    super().__init__()\n",
        "    self.query_model: tf.keras.Model = query_model\n",
        "    self.candidate_model: tf.keras.Model = candidate_model\n",
        "    self.retrieval_task_layer: tf.keras.layers.Layer = retrieval_task_layer\n",
        "\n",
        " #def compute_loss(self, features: Dict[Text, tf.Tensor], training=False):\n",
        "  def compute_loss(self, features, training=False) -> tf.Tensor:\n",
        "    query_embeddings = self.query_model(features['user_id'])\n",
        "    positive_candidate_embeddings = self.candidate_model(features[\"movie_id\"])\n",
        "\n",
        "    loss = self.retrieval_task_layer(\n",
        "        query_embeddings,\n",
        "        positive_candidate_embeddings\n",
        "        # ,compute_metrics=not training  # To speed up training\n",
        "    )\n",
        "    return loss"
      ],
      "metadata": {
        "id": "ww-LL97TsmLW"
      },
      "execution_count": null,
      "outputs": []
    },
    {
      "cell_type": "code",
      "source": [
        "# Create the retrieval model\n",
        "movielens_retrieval_model = RetrievalModel(\n",
        "    query_model,\n",
        "    candidate_model,\n",
        "    retrieval_task_layer\n",
        ")\n",
        "\n",
        "# Optimization here...\n",
        "optimizer_step_size = 0.1\n",
        "movielens_retrieval_model.compile(\n",
        "    optimizer=tf.keras.optimizers.Adagrad(\n",
        "        learning_rate=optimizer_step_size\n",
        "    )\n",
        ")\n",
        "\n",
        "# Shuffle the trainset and the testset, and cache it.\n",
        "retrieval_cached_ratings_trainset = \\\n",
        "  retrieval_ratings_trainset.shuffle(100_000).batch(8192).cache()\n",
        "retrieval_cached_ratings_testset = \\\n",
        "  retrieval_ratings_testset.batch(4096).cache()\n",
        "\n",
        "#  Train the model!\n",
        "num_epochs = 5\n",
        "history = movielens_retrieval_model.fit(\n",
        "    retrieval_cached_ratings_trainset,\n",
        "    validation_data=retrieval_cached_ratings_testset,\n",
        "    validation_freq=1,\n",
        "    epochs=num_epochs\n",
        ")"
      ],
      "metadata": {
        "colab": {
          "base_uri": "https://localhost:8080/"
        },
        "id": "R_wNVJzAtadP",
        "outputId": "4b69159c-a55d-4380-f21a-0595a84a677c"
      },
      "execution_count": null,
      "outputs": [
        {
          "output_type": "stream",
          "name": "stdout",
          "text": [
            "Epoch 1/5\n",
            "10/10 [==============================] - 67s 6s/step - factorized_top_k/top_1_categorical_accuracy: 0.0035 - factorized_top_k/top_5_categorical_accuracy: 0.0272 - factorized_top_k/top_10_categorical_accuracy: 0.0564 - factorized_top_k/top_50_categorical_accuracy: 0.2381 - factorized_top_k/top_100_categorical_accuracy: 0.3865 - loss: 63963.3778 - regularization_loss: 0.0000e+00 - total_loss: 63963.3778 - val_factorized_top_k/top_1_categorical_accuracy: 0.0000e+00 - val_factorized_top_k/top_5_categorical_accuracy: 0.0016 - val_factorized_top_k/top_10_categorical_accuracy: 0.0045 - val_factorized_top_k/top_50_categorical_accuracy: 0.0693 - val_factorized_top_k/top_100_categorical_accuracy: 0.1751 - val_loss: 29415.6641 - val_regularization_loss: 0.0000e+00 - val_total_loss: 29415.6641\n",
            "Epoch 2/5\n",
            "10/10 [==============================] - 41s 4s/step - factorized_top_k/top_1_categorical_accuracy: 0.0043 - factorized_top_k/top_5_categorical_accuracy: 0.0343 - factorized_top_k/top_10_categorical_accuracy: 0.0687 - factorized_top_k/top_50_categorical_accuracy: 0.2670 - factorized_top_k/top_100_categorical_accuracy: 0.4187 - loss: 62986.3683 - regularization_loss: 0.0000e+00 - total_loss: 62986.3683 - val_factorized_top_k/top_1_categorical_accuracy: 5.0000e-05 - val_factorized_top_k/top_5_categorical_accuracy: 0.0014 - val_factorized_top_k/top_10_categorical_accuracy: 0.0044 - val_factorized_top_k/top_50_categorical_accuracy: 0.0690 - val_factorized_top_k/top_100_categorical_accuracy: 0.1748 - val_loss: 29479.3203 - val_regularization_loss: 0.0000e+00 - val_total_loss: 29479.3203\n",
            "Epoch 3/5\n",
            "10/10 [==============================] - 38s 4s/step - factorized_top_k/top_1_categorical_accuracy: 0.0047 - factorized_top_k/top_5_categorical_accuracy: 0.0366 - factorized_top_k/top_10_categorical_accuracy: 0.0724 - factorized_top_k/top_50_categorical_accuracy: 0.2752 - factorized_top_k/top_100_categorical_accuracy: 0.4279 - loss: 62736.3153 - regularization_loss: 0.0000e+00 - total_loss: 62736.3153 - val_factorized_top_k/top_1_categorical_accuracy: 0.0000e+00 - val_factorized_top_k/top_5_categorical_accuracy: 0.0013 - val_factorized_top_k/top_10_categorical_accuracy: 0.0042 - val_factorized_top_k/top_50_categorical_accuracy: 0.0686 - val_factorized_top_k/top_100_categorical_accuracy: 0.1754 - val_loss: 29537.3066 - val_regularization_loss: 0.0000e+00 - val_total_loss: 29537.3066\n",
            "Epoch 4/5\n",
            "10/10 [==============================] - 38s 4s/step - factorized_top_k/top_1_categorical_accuracy: 0.0051 - factorized_top_k/top_5_categorical_accuracy: 0.0381 - factorized_top_k/top_10_categorical_accuracy: 0.0752 - factorized_top_k/top_50_categorical_accuracy: 0.2805 - factorized_top_k/top_100_categorical_accuracy: 0.4341 - loss: 62588.7138 - regularization_loss: 0.0000e+00 - total_loss: 62588.7138 - val_factorized_top_k/top_1_categorical_accuracy: 5.0000e-05 - val_factorized_top_k/top_5_categorical_accuracy: 0.0012 - val_factorized_top_k/top_10_categorical_accuracy: 0.0040 - val_factorized_top_k/top_50_categorical_accuracy: 0.0686 - val_factorized_top_k/top_100_categorical_accuracy: 0.1768 - val_loss: 29582.9277 - val_regularization_loss: 0.0000e+00 - val_total_loss: 29582.9277\n",
            "Epoch 5/5\n",
            "10/10 [==============================] - 39s 4s/step - factorized_top_k/top_1_categorical_accuracy: 0.0060 - factorized_top_k/top_5_categorical_accuracy: 0.0393 - factorized_top_k/top_10_categorical_accuracy: 0.0778 - factorized_top_k/top_50_categorical_accuracy: 0.2848 - factorized_top_k/top_100_categorical_accuracy: 0.4385 - loss: 62484.8636 - regularization_loss: 0.0000e+00 - total_loss: 62484.8636 - val_factorized_top_k/top_1_categorical_accuracy: 0.0000e+00 - val_factorized_top_k/top_5_categorical_accuracy: 0.0014 - val_factorized_top_k/top_10_categorical_accuracy: 0.0039 - val_factorized_top_k/top_50_categorical_accuracy: 0.0690 - val_factorized_top_k/top_100_categorical_accuracy: 0.1773 - val_loss: 29623.4395 - val_regularization_loss: 0.0000e+00 - val_total_loss: 29623.4395\n"
          ]
        }
      ]
    },
    {
      "cell_type": "code",
      "source": [
        "import matplotlib.pyplot as plt\n",
        "\n",
        "# Plot a graph to show the model losses during training\n",
        "plt.plot(history.history[\"loss\"])\n",
        "plt.plot(history.history[\"val_loss\"])\n",
        "plt.title(\"Model losses during training\")\n",
        "plt.xlabel(\"epoch\")\n",
        "plt.ylabel(\"loss\")\n",
        "plt.legend([\"train\",\"test\"], loc=\"upper right\")\n",
        "plt.show()"
      ],
      "metadata": {
        "colab": {
          "base_uri": "https://localhost:8080/",
          "height": 472
        },
        "id": "XvyO4Sm8uDIo",
        "outputId": "f7f99752-188d-44ea-b447-0f6fe5cd3465"
      },
      "execution_count": null,
      "outputs": [
        {
          "output_type": "display_data",
          "data": {
            "text/plain": [
              "<Figure size 640x480 with 1 Axes>"
            ],
            "image/png": "[encoded data removed]"
          },
          "metadata": {}
        }
      ]
    },
    {
      "cell_type": "code",
      "source": [
        "# Plot to show the accuracy of the model during training\n",
        "plt.plot(history.history[\"factorized_top_k/top_100_categorical_accuracy\"])\n",
        "plt.plot(history.history[\"val_factorized_top_k/top_100_categorical_accuracy\"])\n",
        "plt.title(\"Model accuracies during training\")\n",
        "plt.xlabel(\"epoch\")\n",
        "plt.ylabel(\"accuracy\")\n",
        "plt.legend([\"train\", \"test\"], loc=\"upper right\")\n",
        "plt.show()"
      ],
      "metadata": {
        "colab": {
          "base_uri": "https://localhost:8080/",
          "height": 472
        },
        "id": "mSlO_XgsubEm",
        "outputId": "03bc7f1b-1ad9-43b3-d007-27911c2fabea"
      },
      "execution_count": null,
      "outputs": [
        {
          "output_type": "display_data",
          "data": {
            "text/plain": [
              "<Figure size 640x480 with 1 Axes>"
            ],
            "image/png": "[encoded data removed]"
          },
          "metadata": {}
        }
      ]
    },
    {
      "cell_type": "code",
      "source": [
        "# Using the created model, this will brute force the top recommendations\n",
        "brute_force_layer = tfrs.layers.factorized_top_k.BruteForce(\n",
        "    movielens_retrieval_model.query_model\n",
        ")\n",
        "\n",
        "brute_force_layer.index_from_dataset(\n",
        "    tf.data.Dataset.zip(\n",
        "        (\n",
        "            candidates_corpus_dataset.batch(100),\n",
        "            candidates_corpus_dataset.batch(100).map(\n",
        "                movielens_retrieval_model.candidate_model\n",
        "            )\n",
        "        )\n",
        "    )\n",
        ")"
      ],
      "metadata": {
        "colab": {
          "base_uri": "https://localhost:8080/"
        },
        "id": "LdnNasa90paF",
        "outputId": "9250a5d2-fc8a-4a61-e915-30e62c13c24b"
      },
      "execution_count": null,
      "outputs": [
        {
          "output_type": "execute_result",
          "data": {
            "text/plain": [
              "<tensorflow_recommenders.layers.factorized_top_k.BruteForce at 0x784e3fbff9a0>"
            ]
          },
          "metadata": {},
          "execution_count": 64
        }
      ]
    },
    {
      "cell_type": "code",
      "source": [
        "# Test the retrieval\n",
        "user_id = '42'\n",
        "afinity_scores, movie_ids = brute_force_layer(\n",
        "    tf.constant([user_id])\n",
        ")\n",
        "\n",
        "print(f\"Recommendations for user {user_id} using BruteForce: {movie_ids[0, :5]}\")"
      ],
      "metadata": {
        "colab": {
          "base_uri": "https://localhost:8080/"
        },
        "id": "GPxZ8nCV1G3X",
        "outputId": "e9e7768d-2351-44d7-a119-9e9c5ee7fee2"
      },
      "execution_count": null,
      "outputs": [
        {
          "output_type": "stream",
          "name": "stdout",
          "text": [
            "Recommendations for user 42 using BruteForce: [b'1043' b'280' b'1032' b'925' b'369']\n"
          ]
        }
      ]
    },
    {
      "cell_type": "code",
      "source": [
        "# Using the created model, this will use ScaNN to get the top recommendations\n",
        "scann_layer = tfrs.layers.factorized_top_k.ScaNN(\n",
        "    movielens_retrieval_model.query_model\n",
        ")\n",
        "\n",
        "scann_layer.index_from_dataset(\n",
        "  tf.data.Dataset.zip(\n",
        "      (\n",
        "          candidates_corpus_dataset.batch(100),\n",
        "          candidates_corpus_dataset.batch(100).map(\n",
        "              movielens_retrieval_model.candidate_model\n",
        "          )\n",
        "      )\n",
        "  )\n",
        ")\n",
        "\n",
        "user_id = '42'\n",
        "afinity_scores, movie_ids = scann_layer(\n",
        "    tf.constant([user_id])\n",
        ")\n",
        "\n",
        "print(f\"Recommendations for user {user_id} using ScaNN: {movie_ids[0, :5]}\")"
      ],
      "metadata": {
        "colab": {
          "base_uri": "https://localhost:8080/"
        },
        "id": "YzSAOY6j1atc",
        "outputId": "51bb0fee-269b-41a6-9882-58c615831e58"
      },
      "execution_count": null,
      "outputs": [
        {
          "output_type": "stream",
          "name": "stdout",
          "text": [
            "Recommendations for user 42 using ScaNN: [b'925' b'280' b'756' b'105' b'1291']\n"
          ]
        }
      ]
    },
    {
      "cell_type": "markdown",
      "source": [
        "## Save the Model"
      ],
      "metadata": {
        "id": "0NGdIJbn-8DP"
      }
    },
    {
      "cell_type": "code",
      "source": [
        "# DOESN'T WORK YET.\n",
        "import os\n",
        "import tempfile\n",
        "\n",
        "with tempfile.TemporaryDirectory() as tmp_dir:\n",
        "  retrieval_model_path = os.path.join(tmp_dir, \"retrieval_model\")\n",
        "\n",
        "\n",
        "scann_layer.save_weights(retrieval_model_path)"
      ],
      "metadata": {
        "id": "hLxZXxEb1fqz"
      },
      "execution_count": null,
      "outputs": []
    },
    {
      "cell_type": "code",
      "source": [
        "# Reload the saved model to confirm that it works correctly\n",
        "model = tfrs.models.RetrievalModel(\n",
        "    user_model=user_model,\n",
        "    item_model=item_model,\n",
        "    task=task\n",
        ")\n",
        "model.compile()\n",
        "model.load_weights(retrieval_model_path)\n",
        "\n",
        "print(f\"Recommendations for user {user_id} using reloaded saved model: {movie_ids[0, :5]}\")"
      ],
      "metadata": {
        "colab": {
          "base_uri": "https://localhost:8080/",
          "height": 400
        },
        "id": "KFEJ9QWe15lE",
        "outputId": "ced39f13-13aa-4f1c-cefb-1c3b4f90e87f"
      },
      "execution_count": null,
      "outputs": [
        {
          "output_type": "error",
          "ename": "AssertionError",
          "evalue": "Nothing except the root object matched a checkpointed value. Typically this means that the checkpoint does not match the Python program. The following objects have no matching checkpointed value: [<tf.Variable 'iteration:0' shape=() dtype=int64, numpy=0>, <tf.Variable 'learning_rate:0' shape=() dtype=float32, numpy=0.001>]",
          "traceback": [
            "\u001b[0;31m---------------------------------------------------------------------------\u001b[0m",
            "\u001b[0;31mAssertionError\u001b[0m                            Traceback (most recent call last)",
            "\u001b[0;32m<ipython-input-79-4f882ff8cc8d>\u001b[0m in \u001b[0;36m<cell line: 4>\u001b[0;34m()\u001b[0m\n\u001b[1;32m      2\u001b[0m \u001b[0mmodel\u001b[0m \u001b[0;34m=\u001b[0m \u001b[0mtfrs\u001b[0m\u001b[0;34m.\u001b[0m\u001b[0mmodels\u001b[0m\u001b[0;34m.\u001b[0m\u001b[0mModel\u001b[0m\u001b[0;34m(\u001b[0m\u001b[0;34m)\u001b[0m\u001b[0;34m\u001b[0m\u001b[0;34m\u001b[0m\u001b[0m\n\u001b[1;32m      3\u001b[0m \u001b[0mmodel\u001b[0m\u001b[0;34m.\u001b[0m\u001b[0mcompile\u001b[0m\u001b[0;34m(\u001b[0m\u001b[0;34m)\u001b[0m\u001b[0;34m\u001b[0m\u001b[0;34m\u001b[0m\u001b[0m\n\u001b[0;32m----> 4\u001b[0;31m \u001b[0mmodel\u001b[0m\u001b[0;34m.\u001b[0m\u001b[0mload_weights\u001b[0m\u001b[0;34m(\u001b[0m\u001b[0mretrieval_model_path\u001b[0m\u001b[0;34m)\u001b[0m\u001b[0;34m\u001b[0m\u001b[0;34m\u001b[0m\u001b[0m\n\u001b[0m\u001b[1;32m      5\u001b[0m \u001b[0;34m\u001b[0m\u001b[0m\n\u001b[1;32m      6\u001b[0m \u001b[0mprint\u001b[0m\u001b[0;34m(\u001b[0m\u001b[0;34mf\"Recommendations for user {user_id} using reloaded saved model: {movie_ids[0, :5]}\"\u001b[0m\u001b[0;34m)\u001b[0m\u001b[0;34m\u001b[0m\u001b[0;34m\u001b[0m\u001b[0m\n",
            "\u001b[0;32m/usr/local/lib/python3.10/dist-packages/keras/src/utils/traceback_utils.py\u001b[0m in \u001b[0;36merror_handler\u001b[0;34m(*args, **kwargs)\u001b[0m\n\u001b[1;32m     68\u001b[0m             \u001b[0;31m# To get the full stack trace, call:\u001b[0m\u001b[0;34m\u001b[0m\u001b[0;34m\u001b[0m\u001b[0m\n\u001b[1;32m     69\u001b[0m             \u001b[0;31m# `tf.debugging.disable_traceback_filtering()`\u001b[0m\u001b[0;34m\u001b[0m\u001b[0;34m\u001b[0m\u001b[0m\n\u001b[0;32m---> 70\u001b[0;31m             \u001b[0;32mraise\u001b[0m \u001b[0me\u001b[0m\u001b[0;34m.\u001b[0m\u001b[0mwith_traceback\u001b[0m\u001b[0;34m(\u001b[0m\u001b[0mfiltered_tb\u001b[0m\u001b[0;34m)\u001b[0m \u001b[0;32mfrom\u001b[0m \u001b[0;32mNone\u001b[0m\u001b[0;34m\u001b[0m\u001b[0;34m\u001b[0m\u001b[0m\n\u001b[0m\u001b[1;32m     71\u001b[0m         \u001b[0;32mfinally\u001b[0m\u001b[0;34m:\u001b[0m\u001b[0;34m\u001b[0m\u001b[0;34m\u001b[0m\u001b[0m\n\u001b[1;32m     72\u001b[0m             \u001b[0;32mdel\u001b[0m \u001b[0mfiltered_tb\u001b[0m\u001b[0;34m\u001b[0m\u001b[0;34m\u001b[0m\u001b[0m\n",
            "\u001b[0;32m/usr/local/lib/python3.10/dist-packages/tensorflow/python/checkpoint/checkpoint.py\u001b[0m in \u001b[0;36massert_nontrivial_match\u001b[0;34m(self)\u001b[0m\n\u001b[1;32m    884\u001b[0m               self._checkpoint.object_by_proto_id.values()))\n\u001b[1;32m    885\u001b[0m       \u001b[0;32mif\u001b[0m \u001b[0munused_python_objects\u001b[0m\u001b[0;34m:\u001b[0m\u001b[0;34m\u001b[0m\u001b[0;34m\u001b[0m\u001b[0m\n\u001b[0;32m--> 886\u001b[0;31m         raise AssertionError(\n\u001b[0m\u001b[1;32m    887\u001b[0m             \u001b[0;34m\"Nothing except the root object matched a checkpointed value. \"\u001b[0m\u001b[0;34m\u001b[0m\u001b[0;34m\u001b[0m\u001b[0m\n\u001b[1;32m    888\u001b[0m             \u001b[0;34m\"Typically this means that the checkpoint does not match the \"\u001b[0m\u001b[0;34m\u001b[0m\u001b[0;34m\u001b[0m\u001b[0m\n",
            "\u001b[0;31mAssertionError\u001b[0m: Nothing except the root object matched a checkpointed value. Typically this means that the checkpoint does not match the Python program. The following objects have no matching checkpointed value: [<tf.Variable 'iteration:0' shape=() dtype=int64, numpy=0>, <tf.Variable 'learning_rate:0' shape=() dtype=float32, numpy=0.001>]"
          ]
        }
      ]
    }
  ]
}